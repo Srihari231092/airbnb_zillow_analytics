{
 "cells": [
  {
   "cell_type": "markdown",
   "metadata": {},
   "source": [
    "# Zillow - Data Cleaning\n",
    "\n",
    "This file extracts relevant information from the Zillow 2 bedroom data file.\n",
    "\n",
    "It saves the subset file to disk to be shared amongst other notebooks."
   ]
  },
  {
   "cell_type": "code",
   "execution_count": 1,
   "metadata": {},
   "outputs": [
    {
     "data": {
      "text/html": [
       "<style>.container { width:100% !important; }</style>"
      ],
      "text/plain": [
       "<IPython.core.display.HTML object>"
      ]
     },
     "metadata": {},
     "output_type": "display_data"
    }
   ],
   "source": [
    "# These configurations expand the Jupyter notebook \n",
    "# They also control how much output can be displayed for each cell\n",
    "import pandas as pd\n",
    "from IPython.core.display import display, HTML\n",
    "import matplotlib.pyplot as plt\n",
    "\n",
    "%reload_ext autoreload\n",
    "%autoreload 1\n",
    "\n",
    "pd.set_option('display.max_rows', 30)\n",
    "pd.set_option('display.max_columns', 20)\n",
    "pd.set_option('display.width', 100)\n",
    "pd.set_option('display.max_colwidth', 30)\n",
    "\n",
    "display(HTML(\"<style>.container { width:100% !important; }</style>\"))\n",
    "\n",
    "import warnings\n",
    "warnings.filterwarnings('ignore')"
   ]
  },
  {
   "cell_type": "code",
   "execution_count": 2,
   "metadata": {},
   "outputs": [],
   "source": [
    "# Import necessary python packages\n",
    "from os import listdir\n",
    "from os.path import join as pjoin\n",
    "import pandas as pd\n",
    "from time import time, sleep\n",
    "import dateutil.parser\n",
    "\n",
    "# Import necessary utilities\n",
    "from Utils.DataUtils import *\n",
    "from Utils.UtilsViz import *"
   ]
  },
  {
   "cell_type": "markdown",
   "metadata": {},
   "source": [
    "---------------------------------------------------------------------------------------------------------------"
   ]
  },
  {
   "cell_type": "code",
   "execution_count": 4,
   "metadata": {},
   "outputs": [
    {
     "data": {
      "text/plain": [
       "['listings.csv', 'listings.csv.gz', 'Zip_Zhvi_2bedroom.csv']"
      ]
     },
     "execution_count": 4,
     "metadata": {},
     "output_type": "execute_result"
    }
   ],
   "source": [
    "# Have a quick look at the data folder\n",
    "data_path = \"./data\"\n",
    "listdir(data_path)"
   ]
  },
  {
   "cell_type": "code",
   "execution_count": 5,
   "metadata": {},
   "outputs": [
    {
     "data": {
      "text/plain": [
       "(8946, 262)"
      ]
     },
     "metadata": {},
     "output_type": "display_data"
    },
    {
     "data": {
      "text/html": [
       "<div>\n",
       "<style scoped>\n",
       "    .dataframe tbody tr th:only-of-type {\n",
       "        vertical-align: middle;\n",
       "    }\n",
       "\n",
       "    .dataframe tbody tr th {\n",
       "        vertical-align: top;\n",
       "    }\n",
       "\n",
       "    .dataframe thead th {\n",
       "        text-align: right;\n",
       "    }\n",
       "</style>\n",
       "<table border=\"1\" class=\"dataframe\">\n",
       "  <thead>\n",
       "    <tr style=\"text-align: right;\">\n",
       "      <th></th>\n",
       "      <th>RegionID</th>\n",
       "      <th>RegionName</th>\n",
       "      <th>City</th>\n",
       "      <th>State</th>\n",
       "      <th>Metro</th>\n",
       "      <th>CountyName</th>\n",
       "      <th>SizeRank</th>\n",
       "      <th>1996-04</th>\n",
       "      <th>1996-05</th>\n",
       "      <th>1996-06</th>\n",
       "      <th>...</th>\n",
       "      <th>2016-09</th>\n",
       "      <th>2016-10</th>\n",
       "      <th>2016-11</th>\n",
       "      <th>2016-12</th>\n",
       "      <th>2017-01</th>\n",
       "      <th>2017-02</th>\n",
       "      <th>2017-03</th>\n",
       "      <th>2017-04</th>\n",
       "      <th>2017-05</th>\n",
       "      <th>2017-06</th>\n",
       "    </tr>\n",
       "  </thead>\n",
       "  <tbody>\n",
       "    <tr>\n",
       "      <th>0</th>\n",
       "      <td>61639</td>\n",
       "      <td>10025</td>\n",
       "      <td>New York</td>\n",
       "      <td>NY</td>\n",
       "      <td>New York</td>\n",
       "      <td>New York</td>\n",
       "      <td>1</td>\n",
       "      <td>NaN</td>\n",
       "      <td>NaN</td>\n",
       "      <td>NaN</td>\n",
       "      <td>...</td>\n",
       "      <td>1374400</td>\n",
       "      <td>1364100</td>\n",
       "      <td>1366300</td>\n",
       "      <td>1354800.0</td>\n",
       "      <td>1327500</td>\n",
       "      <td>1317300</td>\n",
       "      <td>1333700</td>\n",
       "      <td>1352100</td>\n",
       "      <td>1390000</td>\n",
       "      <td>1431000</td>\n",
       "    </tr>\n",
       "    <tr>\n",
       "      <th>1</th>\n",
       "      <td>84654</td>\n",
       "      <td>60657</td>\n",
       "      <td>Chicago</td>\n",
       "      <td>IL</td>\n",
       "      <td>Chicago</td>\n",
       "      <td>Cook</td>\n",
       "      <td>2</td>\n",
       "      <td>167700.0</td>\n",
       "      <td>166400.0</td>\n",
       "      <td>166700.0</td>\n",
       "      <td>...</td>\n",
       "      <td>368600</td>\n",
       "      <td>370200</td>\n",
       "      <td>372300</td>\n",
       "      <td>375300.0</td>\n",
       "      <td>378700</td>\n",
       "      <td>381400</td>\n",
       "      <td>381800</td>\n",
       "      <td>382100</td>\n",
       "      <td>383300</td>\n",
       "      <td>385100</td>\n",
       "    </tr>\n",
       "    <tr>\n",
       "      <th>2</th>\n",
       "      <td>61637</td>\n",
       "      <td>10023</td>\n",
       "      <td>New York</td>\n",
       "      <td>NY</td>\n",
       "      <td>New York</td>\n",
       "      <td>New York</td>\n",
       "      <td>3</td>\n",
       "      <td>NaN</td>\n",
       "      <td>NaN</td>\n",
       "      <td>NaN</td>\n",
       "      <td>...</td>\n",
       "      <td>1993500</td>\n",
       "      <td>1980700</td>\n",
       "      <td>1960900</td>\n",
       "      <td>1951300.0</td>\n",
       "      <td>1937800</td>\n",
       "      <td>1929800</td>\n",
       "      <td>1955000</td>\n",
       "      <td>2022400</td>\n",
       "      <td>2095000</td>\n",
       "      <td>2142300</td>\n",
       "    </tr>\n",
       "    <tr>\n",
       "      <th>3</th>\n",
       "      <td>84616</td>\n",
       "      <td>60614</td>\n",
       "      <td>Chicago</td>\n",
       "      <td>IL</td>\n",
       "      <td>Chicago</td>\n",
       "      <td>Cook</td>\n",
       "      <td>4</td>\n",
       "      <td>195800.0</td>\n",
       "      <td>193500.0</td>\n",
       "      <td>192600.0</td>\n",
       "      <td>...</td>\n",
       "      <td>398900</td>\n",
       "      <td>401200</td>\n",
       "      <td>403200</td>\n",
       "      <td>405700.0</td>\n",
       "      <td>408300</td>\n",
       "      <td>408800</td>\n",
       "      <td>408000</td>\n",
       "      <td>410100</td>\n",
       "      <td>412200</td>\n",
       "      <td>412200</td>\n",
       "    </tr>\n",
       "    <tr>\n",
       "      <th>4</th>\n",
       "      <td>93144</td>\n",
       "      <td>79936</td>\n",
       "      <td>El Paso</td>\n",
       "      <td>TX</td>\n",
       "      <td>El Paso</td>\n",
       "      <td>El Paso</td>\n",
       "      <td>5</td>\n",
       "      <td>59100.0</td>\n",
       "      <td>60500.0</td>\n",
       "      <td>60900.0</td>\n",
       "      <td>...</td>\n",
       "      <td>82400</td>\n",
       "      <td>82300</td>\n",
       "      <td>82400</td>\n",
       "      <td>82300.0</td>\n",
       "      <td>82500</td>\n",
       "      <td>83200</td>\n",
       "      <td>83900</td>\n",
       "      <td>84100</td>\n",
       "      <td>83900</td>\n",
       "      <td>83700</td>\n",
       "    </tr>\n",
       "  </tbody>\n",
       "</table>\n",
       "<p>5 rows × 262 columns</p>\n",
       "</div>"
      ],
      "text/plain": [
       "   RegionID  RegionName      City State     Metro CountyName  SizeRank   1996-04   1996-05  \\\n",
       "0     61639       10025  New York    NY  New York   New York         1       NaN       NaN   \n",
       "1     84654       60657   Chicago    IL   Chicago       Cook         2  167700.0  166400.0   \n",
       "2     61637       10023  New York    NY  New York   New York         3       NaN       NaN   \n",
       "3     84616       60614   Chicago    IL   Chicago       Cook         4  195800.0  193500.0   \n",
       "4     93144       79936   El Paso    TX   El Paso    El Paso         5   59100.0   60500.0   \n",
       "\n",
       "    1996-06  ...  2016-09  2016-10  2016-11    2016-12  2017-01  2017-02  2017-03  2017-04  \\\n",
       "0       NaN  ...  1374400  1364100  1366300  1354800.0  1327500  1317300  1333700  1352100   \n",
       "1  166700.0  ...   368600   370200   372300   375300.0   378700   381400   381800   382100   \n",
       "2       NaN  ...  1993500  1980700  1960900  1951300.0  1937800  1929800  1955000  2022400   \n",
       "3  192600.0  ...   398900   401200   403200   405700.0   408300   408800   408000   410100   \n",
       "4   60900.0  ...    82400    82300    82400    82300.0    82500    83200    83900    84100   \n",
       "\n",
       "   2017-05  2017-06  \n",
       "0  1390000  1431000  \n",
       "1   383300   385100  \n",
       "2  2095000  2142300  \n",
       "3   412200   412200  \n",
       "4    83900    83700  \n",
       "\n",
       "[5 rows x 262 columns]"
      ]
     },
     "metadata": {},
     "output_type": "display_data"
    }
   ],
   "source": [
    "# Load the Zillow data file\n",
    "data = pjoin(data_path, 'Zip_Zhvi_2bedroom.csv')\n",
    "zillow_data = pd.read_csv(data)\n",
    "display(\n",
    "    zillow_data.shape,\n",
    "    zillow_data.head())"
   ]
  },
  {
   "cell_type": "code",
   "execution_count": 6,
   "metadata": {},
   "outputs": [
    {
     "name": "stdout",
     "output_type": "stream",
     "text": [
      "Total number of cities : 4684\n"
     ]
    }
   ],
   "source": [
    "print(\"Total number of cities :\", len(zillow_data[\"City\"].unique()))"
   ]
  },
  {
   "cell_type": "markdown",
   "metadata": {},
   "source": [
    "This file contains data from several cities.\n",
    "\n",
    "Let's filter out the data just for New york City"
   ]
  },
  {
   "cell_type": "code",
   "execution_count": 7,
   "metadata": {
    "scrolled": true
   },
   "outputs": [
    {
     "name": "stdout",
     "output_type": "stream",
     "text": [
      "Number of rows for NYC : 25\n"
     ]
    },
    {
     "data": {
      "text/html": [
       "<div>\n",
       "<style scoped>\n",
       "    .dataframe tbody tr th:only-of-type {\n",
       "        vertical-align: middle;\n",
       "    }\n",
       "\n",
       "    .dataframe tbody tr th {\n",
       "        vertical-align: top;\n",
       "    }\n",
       "\n",
       "    .dataframe thead th {\n",
       "        text-align: right;\n",
       "    }\n",
       "</style>\n",
       "<table border=\"1\" class=\"dataframe\">\n",
       "  <thead>\n",
       "    <tr style=\"text-align: right;\">\n",
       "      <th></th>\n",
       "      <th>RegionID</th>\n",
       "      <th>RegionName</th>\n",
       "      <th>City</th>\n",
       "      <th>State</th>\n",
       "      <th>Metro</th>\n",
       "      <th>CountyName</th>\n",
       "      <th>SizeRank</th>\n",
       "      <th>1996-04</th>\n",
       "      <th>1996-05</th>\n",
       "      <th>1996-06</th>\n",
       "      <th>...</th>\n",
       "      <th>2016-09</th>\n",
       "      <th>2016-10</th>\n",
       "      <th>2016-11</th>\n",
       "      <th>2016-12</th>\n",
       "      <th>2017-01</th>\n",
       "      <th>2017-02</th>\n",
       "      <th>2017-03</th>\n",
       "      <th>2017-04</th>\n",
       "      <th>2017-05</th>\n",
       "      <th>2017-06</th>\n",
       "    </tr>\n",
       "  </thead>\n",
       "  <tbody>\n",
       "    <tr>\n",
       "      <th>0</th>\n",
       "      <td>61639</td>\n",
       "      <td>10025</td>\n",
       "      <td>New York</td>\n",
       "      <td>NY</td>\n",
       "      <td>New York</td>\n",
       "      <td>New York</td>\n",
       "      <td>1</td>\n",
       "      <td>NaN</td>\n",
       "      <td>NaN</td>\n",
       "      <td>NaN</td>\n",
       "      <td>...</td>\n",
       "      <td>1374400</td>\n",
       "      <td>1364100</td>\n",
       "      <td>1366300</td>\n",
       "      <td>1354800.0</td>\n",
       "      <td>1327500</td>\n",
       "      <td>1317300</td>\n",
       "      <td>1333700</td>\n",
       "      <td>1352100</td>\n",
       "      <td>1390000</td>\n",
       "      <td>1431000</td>\n",
       "    </tr>\n",
       "    <tr>\n",
       "      <th>1</th>\n",
       "      <td>61637</td>\n",
       "      <td>10023</td>\n",
       "      <td>New York</td>\n",
       "      <td>NY</td>\n",
       "      <td>New York</td>\n",
       "      <td>New York</td>\n",
       "      <td>3</td>\n",
       "      <td>NaN</td>\n",
       "      <td>NaN</td>\n",
       "      <td>NaN</td>\n",
       "      <td>...</td>\n",
       "      <td>1993500</td>\n",
       "      <td>1980700</td>\n",
       "      <td>1960900</td>\n",
       "      <td>1951300.0</td>\n",
       "      <td>1937800</td>\n",
       "      <td>1929800</td>\n",
       "      <td>1955000</td>\n",
       "      <td>2022400</td>\n",
       "      <td>2095000</td>\n",
       "      <td>2142300</td>\n",
       "    </tr>\n",
       "    <tr>\n",
       "      <th>2</th>\n",
       "      <td>61703</td>\n",
       "      <td>10128</td>\n",
       "      <td>New York</td>\n",
       "      <td>NY</td>\n",
       "      <td>New York</td>\n",
       "      <td>New York</td>\n",
       "      <td>14</td>\n",
       "      <td>NaN</td>\n",
       "      <td>NaN</td>\n",
       "      <td>NaN</td>\n",
       "      <td>...</td>\n",
       "      <td>1526000</td>\n",
       "      <td>1523700</td>\n",
       "      <td>1527200</td>\n",
       "      <td>1541600.0</td>\n",
       "      <td>1557800</td>\n",
       "      <td>1582900</td>\n",
       "      <td>1598900</td>\n",
       "      <td>1646100</td>\n",
       "      <td>1720500</td>\n",
       "      <td>1787100</td>\n",
       "    </tr>\n",
       "    <tr>\n",
       "      <th>3</th>\n",
       "      <td>61625</td>\n",
       "      <td>10011</td>\n",
       "      <td>New York</td>\n",
       "      <td>NY</td>\n",
       "      <td>New York</td>\n",
       "      <td>New York</td>\n",
       "      <td>15</td>\n",
       "      <td>NaN</td>\n",
       "      <td>NaN</td>\n",
       "      <td>NaN</td>\n",
       "      <td>...</td>\n",
       "      <td>2354000</td>\n",
       "      <td>2355500</td>\n",
       "      <td>2352200</td>\n",
       "      <td>2332100.0</td>\n",
       "      <td>2313300</td>\n",
       "      <td>2319600</td>\n",
       "      <td>2342100</td>\n",
       "      <td>2365900</td>\n",
       "      <td>2419700</td>\n",
       "      <td>2480400</td>\n",
       "    </tr>\n",
       "    <tr>\n",
       "      <th>4</th>\n",
       "      <td>61617</td>\n",
       "      <td>10003</td>\n",
       "      <td>New York</td>\n",
       "      <td>NY</td>\n",
       "      <td>New York</td>\n",
       "      <td>New York</td>\n",
       "      <td>21</td>\n",
       "      <td>NaN</td>\n",
       "      <td>NaN</td>\n",
       "      <td>NaN</td>\n",
       "      <td>...</td>\n",
       "      <td>1932800</td>\n",
       "      <td>1930400</td>\n",
       "      <td>1937500</td>\n",
       "      <td>1935100.0</td>\n",
       "      <td>1915700</td>\n",
       "      <td>1916500</td>\n",
       "      <td>1965700</td>\n",
       "      <td>2045300</td>\n",
       "      <td>2109100</td>\n",
       "      <td>2147000</td>\n",
       "    </tr>\n",
       "  </tbody>\n",
       "</table>\n",
       "<p>5 rows × 262 columns</p>\n",
       "</div>"
      ],
      "text/plain": [
       "   RegionID  RegionName      City State     Metro CountyName  SizeRank  1996-04  1996-05  1996-06  \\\n",
       "0     61639       10025  New York    NY  New York   New York         1      NaN      NaN      NaN   \n",
       "1     61637       10023  New York    NY  New York   New York         3      NaN      NaN      NaN   \n",
       "2     61703       10128  New York    NY  New York   New York        14      NaN      NaN      NaN   \n",
       "3     61625       10011  New York    NY  New York   New York        15      NaN      NaN      NaN   \n",
       "4     61617       10003  New York    NY  New York   New York        21      NaN      NaN      NaN   \n",
       "\n",
       "   ...  2016-09  2016-10  2016-11    2016-12  2017-01  2017-02  2017-03  2017-04  2017-05  2017-06  \n",
       "0  ...  1374400  1364100  1366300  1354800.0  1327500  1317300  1333700  1352100  1390000  1431000  \n",
       "1  ...  1993500  1980700  1960900  1951300.0  1937800  1929800  1955000  2022400  2095000  2142300  \n",
       "2  ...  1526000  1523700  1527200  1541600.0  1557800  1582900  1598900  1646100  1720500  1787100  \n",
       "3  ...  2354000  2355500  2352200  2332100.0  2313300  2319600  2342100  2365900  2419700  2480400  \n",
       "4  ...  1932800  1930400  1937500  1935100.0  1915700  1916500  1965700  2045300  2109100  2147000  \n",
       "\n",
       "[5 rows x 262 columns]"
      ]
     },
     "metadata": {},
     "output_type": "display_data"
    }
   ],
   "source": [
    "q = \"City==\\\"New York\\\"\"\n",
    "zillow_nyc = zillow_data.query(q).reset_index(drop=True)\n",
    "print(\"Number of rows for NYC :\", zillow_nyc.shape[0])\n",
    "display(\n",
    "    zillow_nyc.head()\n",
    ")"
   ]
  },
  {
   "cell_type": "code",
   "execution_count": 8,
   "metadata": {},
   "outputs": [
    {
     "name": "stdout",
     "output_type": "stream",
     "text": [
      "Number of unique Zipcode data available : 25\n"
     ]
    }
   ],
   "source": [
    "# How many regions do we have?\n",
    "print(\"Number of unique Zipcode data available :\", zillow_nyc[\"RegionName\"].unique().shape[0])"
   ]
  },
  {
   "cell_type": "markdown",
   "metadata": {},
   "source": [
    "We have information on 25 Zip Codes\n",
    "\n",
    "How many missing values are there?"
   ]
  },
  {
   "cell_type": "code",
   "execution_count": 21,
   "metadata": {},
   "outputs": [
    {
     "data": {
      "image/png": "[encoded data removed]",
      "text/plain": [
       "<Figure size 720x360 with 1 Axes>"
      ]
     },
     "metadata": {
      "needs_background": "light"
     },
     "output_type": "display_data"
    }
   ],
   "source": [
    "year_cols = [c for c in zillow_nyc.columns if c not in [\"RegionID\", \"RegionName\", \"City\", \"State\", \"Metro\", \"CountyName\", \"SizeRank\"]]\n",
    "county_df = zillow_nyc[[\"CountyName\"]+year_cols].groupby(by=\"CountyName\", as_index=True).median()\n",
    "county_df_t= county_df.transpose()\n",
    "county_df_t.index = pd.to_datetime(county_df_t.index)\n",
    "\n",
    "f, ax = plt.subplots(1, 1, figsize=(10,5), sharex=True)\n",
    "color_map = {\"Kings\":\"salmon\", \"New York\":\"skyblue\", \"Queens\":\"lightgreen\", \"Richmond\":\"black\"}    \n",
    "for c in county_df_t.columns:\n",
    "    ax.plot_date(county_df_t.index, county_df_t[c], label=c, color=color_map[c], linestyle=\"-\", fmt='-')\n",
    "ax.legend()\n",
    "plt.gcf().autofmt_xdate()\n",
    "plt.show()\n"
   ]
  },
  {
   "cell_type": "code",
   "execution_count": 9,
   "metadata": {
    "scrolled": false
   },
   "outputs": [
    {
     "data": {
      "text/html": [
       "<div>\n",
       "<style scoped>\n",
       "    .dataframe tbody tr th:only-of-type {\n",
       "        vertical-align: middle;\n",
       "    }\n",
       "\n",
       "    .dataframe tbody tr th {\n",
       "        vertical-align: top;\n",
       "    }\n",
       "\n",
       "    .dataframe thead th {\n",
       "        text-align: right;\n",
       "    }\n",
       "</style>\n",
       "<table border=\"1\" class=\"dataframe\">\n",
       "  <thead>\n",
       "    <tr style=\"text-align: right;\">\n",
       "      <th></th>\n",
       "      <th>percentage missing</th>\n",
       "      <th>num_rows</th>\n",
       "      <th>percentage_rows</th>\n",
       "    </tr>\n",
       "  </thead>\n",
       "  <tbody>\n",
       "    <tr>\n",
       "      <th>0</th>\n",
       "      <td>0.0</td>\n",
       "      <td>128</td>\n",
       "      <td>48.85</td>\n",
       "    </tr>\n",
       "    <tr>\n",
       "      <th>1</th>\n",
       "      <td>4.0</td>\n",
       "      <td>20</td>\n",
       "      <td>7.63</td>\n",
       "    </tr>\n",
       "    <tr>\n",
       "      <th>2</th>\n",
       "      <td>12.0</td>\n",
       "      <td>6</td>\n",
       "      <td>2.29</td>\n",
       "    </tr>\n",
       "    <tr>\n",
       "      <th>3</th>\n",
       "      <td>16.0</td>\n",
       "      <td>6</td>\n",
       "      <td>2.29</td>\n",
       "    </tr>\n",
       "    <tr>\n",
       "      <th>4</th>\n",
       "      <td>20.0</td>\n",
       "      <td>1</td>\n",
       "      <td>0.38</td>\n",
       "    </tr>\n",
       "    <tr>\n",
       "      <th>5</th>\n",
       "      <td>40.0</td>\n",
       "      <td>3</td>\n",
       "      <td>1.15</td>\n",
       "    </tr>\n",
       "    <tr>\n",
       "      <th>6</th>\n",
       "      <td>48.0</td>\n",
       "      <td>3</td>\n",
       "      <td>1.15</td>\n",
       "    </tr>\n",
       "    <tr>\n",
       "      <th>7</th>\n",
       "      <td>52.0</td>\n",
       "      <td>2</td>\n",
       "      <td>0.76</td>\n",
       "    </tr>\n",
       "    <tr>\n",
       "      <th>8</th>\n",
       "      <td>56.0</td>\n",
       "      <td>1</td>\n",
       "      <td>0.38</td>\n",
       "    </tr>\n",
       "    <tr>\n",
       "      <th>9</th>\n",
       "      <td>64.0</td>\n",
       "      <td>41</td>\n",
       "      <td>15.65</td>\n",
       "    </tr>\n",
       "    <tr>\n",
       "      <th>10</th>\n",
       "      <td>68.0</td>\n",
       "      <td>51</td>\n",
       "      <td>19.47</td>\n",
       "    </tr>\n",
       "  </tbody>\n",
       "</table>\n",
       "</div>"
      ],
      "text/plain": [
       "    percentage missing  num_rows  percentage_rows\n",
       "0                  0.0       128            48.85\n",
       "1                  4.0        20             7.63\n",
       "2                 12.0         6             2.29\n",
       "3                 16.0         6             2.29\n",
       "4                 20.0         1             0.38\n",
       "5                 40.0         3             1.15\n",
       "6                 48.0         3             1.15\n",
       "7                 52.0         2             0.76\n",
       "8                 56.0         1             0.38\n",
       "9                 64.0        41            15.65\n",
       "10                68.0        51            19.47"
      ]
     },
     "execution_count": 9,
     "metadata": {},
     "output_type": "execute_result"
    }
   ],
   "source": [
    "znyc_nans = analyse_nans(zillow_nyc).loc[\"percentage\",:].to_frame().reset_index()\n",
    "znyc_nan_grp = znyc_nans.groupby(\"percentage\", as_index=False).count()\n",
    "znyc_nan_grp.columns = [\"percentage missing\", \"num_rows\"]\n",
    "znyc_nan_grp[\"percentage_rows\"] = np.round(100*znyc_nan_grp[\"num_rows\"] / znyc_nan_grp[\"num_rows\"].sum(), 2)\n",
    "znyc_nan_grp"
   ]
  },
  {
   "cell_type": "markdown",
   "metadata": {},
   "source": [
    "1. Zillow data not available for all years for all zip codes\n",
    "1. Only 48.85% rows have no missing values"
   ]
  },
  {
   "cell_type": "markdown",
   "metadata": {},
   "source": [
    "From what point can we start using the data without any imputation?"
   ]
  },
  {
   "cell_type": "code",
   "execution_count": 10,
   "metadata": {},
   "outputs": [],
   "source": [
    "zipcode_colname = [\"RegionName\"]\n",
    "region_info_cols = [\"RegionID\", \"City\", \"State\", \"Metro\", \"CountyName\", \"SizeRank\"] + zipcode_colname\n",
    "year_cols = [c for c in zillow_nyc.columns if c not in region_info_cols]"
   ]
  },
  {
   "cell_type": "markdown",
   "metadata": {},
   "source": [
    "One assumption we can make is that, since the AirBnB data is for 2019, we can take roughly 12 years of previous housing data in the zip codes, to observe trends."
   ]
  },
  {
   "cell_type": "code",
   "execution_count": 11,
   "metadata": {
    "scrolled": false
   },
   "outputs": [
    {
     "data": {
      "text/html": [
       "<div>\n",
       "<style scoped>\n",
       "    .dataframe tbody tr th:only-of-type {\n",
       "        vertical-align: middle;\n",
       "    }\n",
       "\n",
       "    .dataframe tbody tr th {\n",
       "        vertical-align: top;\n",
       "    }\n",
       "\n",
       "    .dataframe thead th {\n",
       "        text-align: right;\n",
       "    }\n",
       "</style>\n",
       "<table border=\"1\" class=\"dataframe\">\n",
       "  <thead>\n",
       "    <tr style=\"text-align: right;\">\n",
       "      <th></th>\n",
       "      <th>2007-06</th>\n",
       "      <th>2007-07</th>\n",
       "      <th>2007-08</th>\n",
       "      <th>2007-09</th>\n",
       "      <th>2007-10</th>\n",
       "      <th>2007-11</th>\n",
       "      <th>2007-12</th>\n",
       "      <th>2008-01</th>\n",
       "      <th>2008-02</th>\n",
       "      <th>2008-03</th>\n",
       "      <th>...</th>\n",
       "      <th>2016-09</th>\n",
       "      <th>2016-10</th>\n",
       "      <th>2016-11</th>\n",
       "      <th>2016-12</th>\n",
       "      <th>2017-01</th>\n",
       "      <th>2017-02</th>\n",
       "      <th>2017-03</th>\n",
       "      <th>2017-04</th>\n",
       "      <th>2017-05</th>\n",
       "      <th>2017-06</th>\n",
       "    </tr>\n",
       "  </thead>\n",
       "  <tbody>\n",
       "    <tr>\n",
       "      <th>total</th>\n",
       "      <td>0</td>\n",
       "      <td>0</td>\n",
       "      <td>0</td>\n",
       "      <td>0</td>\n",
       "      <td>0</td>\n",
       "      <td>0</td>\n",
       "      <td>0</td>\n",
       "      <td>0</td>\n",
       "      <td>0</td>\n",
       "      <td>0</td>\n",
       "      <td>...</td>\n",
       "      <td>0</td>\n",
       "      <td>0</td>\n",
       "      <td>0</td>\n",
       "      <td>0</td>\n",
       "      <td>0</td>\n",
       "      <td>0</td>\n",
       "      <td>0</td>\n",
       "      <td>0</td>\n",
       "      <td>0</td>\n",
       "      <td>0</td>\n",
       "    </tr>\n",
       "    <tr>\n",
       "      <th>percentage</th>\n",
       "      <td>0</td>\n",
       "      <td>0</td>\n",
       "      <td>0</td>\n",
       "      <td>0</td>\n",
       "      <td>0</td>\n",
       "      <td>0</td>\n",
       "      <td>0</td>\n",
       "      <td>0</td>\n",
       "      <td>0</td>\n",
       "      <td>0</td>\n",
       "      <td>...</td>\n",
       "      <td>0</td>\n",
       "      <td>0</td>\n",
       "      <td>0</td>\n",
       "      <td>0</td>\n",
       "      <td>0</td>\n",
       "      <td>0</td>\n",
       "      <td>0</td>\n",
       "      <td>0</td>\n",
       "      <td>0</td>\n",
       "      <td>0</td>\n",
       "    </tr>\n",
       "  </tbody>\n",
       "</table>\n",
       "<p>2 rows × 121 columns</p>\n",
       "</div>"
      ],
      "text/plain": [
       "           2007-06 2007-07 2007-08 2007-09 2007-10 2007-11 2007-12 2008-01 2008-02 2008-03  ...  \\\n",
       "total            0       0       0       0       0       0       0       0       0       0  ...   \n",
       "percentage       0       0       0       0       0       0       0       0       0       0  ...   \n",
       "\n",
       "           2016-09 2016-10 2016-11 2016-12 2017-01 2017-02 2017-03 2017-04 2017-05 2017-06  \n",
       "total            0       0       0       0       0       0       0       0       0       0  \n",
       "percentage       0       0       0       0       0       0       0       0       0       0  \n",
       "\n",
       "[2 rows x 121 columns]"
      ]
     },
     "execution_count": 11,
     "metadata": {},
     "output_type": "execute_result"
    }
   ],
   "source": [
    "filtered_year_cols = [c for c in year_cols if int(c[:4]) >= 2007][5:]\n",
    "analyse_nans(zillow_nyc[filtered_year_cols]).iloc[:2,:]"
   ]
  },
  {
   "cell_type": "markdown",
   "metadata": {},
   "source": [
    "This reduces our problem complextiy substantially.\n",
    "\n",
    "Now w'll just remove any remaining columns that contain only one category/value."
   ]
  },
  {
   "cell_type": "code",
   "execution_count": 12,
   "metadata": {},
   "outputs": [
    {
     "name": "stdout",
     "output_type": "stream",
     "text": [
      "Dropping redundant column : City\n",
      "Dropping redundant column : State\n",
      "Dropping redundant column : Metro\n"
     ]
    }
   ],
   "source": [
    "zillow_nyc_subset = zillow_nyc[region_info_cols + filtered_year_cols]\n",
    "# Find columns that contain only one category/value\n",
    "for c in zillow_nyc_subset.columns:\n",
    "    if len(zillow_nyc_subset[c].unique())==1:\n",
    "        print(\"Dropping redundant column :\", c)\n",
    "        zillow_nyc_subset.drop(c, axis=1, inplace=True)\n",
    "        \n",
    "# Save this dataframe to disk  \n",
    "zillow_nyc_subset.to_csv(\"./zillow_nyc_2007_06.csv\", index=False)"
   ]
  },
  {
   "cell_type": "markdown",
   "metadata": {},
   "source": [
    "----------"
   ]
  }
 ],
 "metadata": {
  "kernelspec": {
   "display_name": "Python 3",
   "language": "python",
   "name": "python3"
  },
  "language_info": {
   "codemirror_mode": {
    "name": "ipython",
    "version": 3
   },
   "file_extension": ".py",
   "mimetype": "text/x-python",
   "name": "python",
   "nbconvert_exporter": "python",
   "pygments_lexer": "ipython3",
   "version": "3.6.7"
  }
 },
 "nbformat": 4,
 "nbformat_minor": 2
}
