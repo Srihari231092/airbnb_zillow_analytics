{
 "cells": [
  {
   "cell_type": "markdown",
   "metadata": {},
   "source": [
    "# Airbnb - Data Cleaning\n",
    "\n",
    "This file extracts relevant information from the Airbnb data file.\n",
    "\n",
    "It saves the subset file to disk to be shared amongst other notebooks."
   ]
  },
  {
   "cell_type": "code",
   "execution_count": 1,
   "metadata": {},
   "outputs": [
    {
     "data": {
      "text/html": [
       "<style>.container { width:100% !important; }</style>"
      ],
      "text/plain": [
       "<IPython.core.display.HTML object>"
      ]
     },
     "metadata": {},
     "output_type": "display_data"
    }
   ],
   "source": [
    "# These configurations expand the Jupyter notebook \n",
    "# They also control how much output can be displayed for each cell\n",
    "import pandas as pd\n",
    "from IPython.core.display import display, HTML\n",
    "import matplotlib.pyplot as plt\n",
    "\n",
    "%reload_ext autoreload\n",
    "%autoreload 1\n",
    "\n",
    "pd.set_option('display.max_rows', 30)\n",
    "pd.set_option('display.max_columns', 10)\n",
    "pd.set_option('display.width', 30)\n",
    "pd.set_option('display.max_colwidth', 20)\n",
    "\n",
    "display(HTML(\"<style>.container { width:100% !important; }</style>\"))\n",
    "\n",
    "import warnings\n",
    "warnings.filterwarnings('ignore')"
   ]
  },
  {
   "cell_type": "code",
   "execution_count": 2,
   "metadata": {},
   "outputs": [],
   "source": [
    "# Import necessary python packages\n",
    "from os import listdir\n",
    "from os.path import join as pjoin\n",
    "import pandas as pd\n",
    "from time import time, sleep\n",
    "import dateutil.parser\n",
    "import re\n",
    "\n",
    "import seaborn as sns\n",
    "sns.set(style='whitegrid')\n",
    "\n",
    "# Import utilities\n",
    "from Utils.DataUtils import *\n",
    "from Utils.UtilsViz import *"
   ]
  },
  {
   "cell_type": "markdown",
   "metadata": {},
   "source": [
    "---------------------------------------------------------------------------------------------------------------"
   ]
  },
  {
   "cell_type": "code",
   "execution_count": 3,
   "metadata": {
    "scrolled": false
   },
   "outputs": [
    {
     "data": {
      "text/html": [
       "<div>\n",
       "<style scoped>\n",
       "    .dataframe tbody tr th:only-of-type {\n",
       "        vertical-align: middle;\n",
       "    }\n",
       "\n",
       "    .dataframe tbody tr th {\n",
       "        vertical-align: top;\n",
       "    }\n",
       "\n",
       "    .dataframe thead th {\n",
       "        text-align: right;\n",
       "    }\n",
       "</style>\n",
       "<table border=\"1\" class=\"dataframe\">\n",
       "  <thead>\n",
       "    <tr style=\"text-align: right;\">\n",
       "      <th></th>\n",
       "      <th>listing_url</th>\n",
       "      <th>scrape_id</th>\n",
       "      <th>last_scraped</th>\n",
       "      <th>name</th>\n",
       "      <th>summary</th>\n",
       "      <th>...</th>\n",
       "      <th>calculated_host_listings_count</th>\n",
       "      <th>calculated_host_listings_count_entire_homes</th>\n",
       "      <th>calculated_host_listings_count_private_rooms</th>\n",
       "      <th>calculated_host_listings_count_shared_rooms</th>\n",
       "      <th>reviews_per_month</th>\n",
       "    </tr>\n",
       "    <tr>\n",
       "      <th>id</th>\n",
       "      <th></th>\n",
       "      <th></th>\n",
       "      <th></th>\n",
       "      <th></th>\n",
       "      <th></th>\n",
       "      <th></th>\n",
       "      <th></th>\n",
       "      <th></th>\n",
       "      <th></th>\n",
       "      <th></th>\n",
       "      <th></th>\n",
       "    </tr>\n",
       "  </thead>\n",
       "  <tbody>\n",
       "    <tr>\n",
       "      <th>2539</th>\n",
       "      <td>https://www.airb...</td>\n",
       "      <td>20190708031610</td>\n",
       "      <td>2019-07-09</td>\n",
       "      <td>Clean &amp; quiet ap...</td>\n",
       "      <td>Renovated apt ho...</td>\n",
       "      <td>...</td>\n",
       "      <td>6</td>\n",
       "      <td>0</td>\n",
       "      <td>5</td>\n",
       "      <td>1</td>\n",
       "      <td>0.21</td>\n",
       "    </tr>\n",
       "    <tr>\n",
       "      <th>2595</th>\n",
       "      <td>https://www.airb...</td>\n",
       "      <td>20190708031610</td>\n",
       "      <td>2019-07-09</td>\n",
       "      <td>Skylit Midtown C...</td>\n",
       "      <td>Find your romant...</td>\n",
       "      <td>...</td>\n",
       "      <td>2</td>\n",
       "      <td>1</td>\n",
       "      <td>0</td>\n",
       "      <td>1</td>\n",
       "      <td>0.38</td>\n",
       "    </tr>\n",
       "    <tr>\n",
       "      <th>3647</th>\n",
       "      <td>https://www.airb...</td>\n",
       "      <td>20190708031610</td>\n",
       "      <td>2019-07-08</td>\n",
       "      <td>THE VILLAGE OF H...</td>\n",
       "      <td>NaN</td>\n",
       "      <td>...</td>\n",
       "      <td>1</td>\n",
       "      <td>0</td>\n",
       "      <td>1</td>\n",
       "      <td>0</td>\n",
       "      <td>NaN</td>\n",
       "    </tr>\n",
       "    <tr>\n",
       "      <th>3831</th>\n",
       "      <td>https://www.airb...</td>\n",
       "      <td>20190708031610</td>\n",
       "      <td>2019-07-09</td>\n",
       "      <td>Cozy Entire Floo...</td>\n",
       "      <td>Urban retreat: e...</td>\n",
       "      <td>...</td>\n",
       "      <td>1</td>\n",
       "      <td>1</td>\n",
       "      <td>0</td>\n",
       "      <td>0</td>\n",
       "      <td>4.64</td>\n",
       "    </tr>\n",
       "    <tr>\n",
       "      <th>5022</th>\n",
       "      <td>https://www.airb...</td>\n",
       "      <td>20190708031610</td>\n",
       "      <td>2019-07-08</td>\n",
       "      <td>Entire Apt: Spac...</td>\n",
       "      <td>NaN</td>\n",
       "      <td>...</td>\n",
       "      <td>1</td>\n",
       "      <td>1</td>\n",
       "      <td>0</td>\n",
       "      <td>0</td>\n",
       "      <td>0.10</td>\n",
       "    </tr>\n",
       "  </tbody>\n",
       "</table>\n",
       "<p>5 rows × 105 columns</p>\n",
       "</div>"
      ],
      "text/plain": [
       "              listing_url  \\\n",
       "id                          \n",
       "2539  https://www.airb...   \n",
       "2595  https://www.airb...   \n",
       "3647  https://www.airb...   \n",
       "3831  https://www.airb...   \n",
       "5022  https://www.airb...   \n",
       "\n",
       "           scrape_id  \\\n",
       "id                     \n",
       "2539  20190708031610   \n",
       "2595  20190708031610   \n",
       "3647  20190708031610   \n",
       "3831  20190708031610   \n",
       "5022  20190708031610   \n",
       "\n",
       "     last_scraped  \\\n",
       "id                  \n",
       "2539   2019-07-09   \n",
       "2595   2019-07-09   \n",
       "3647   2019-07-08   \n",
       "3831   2019-07-09   \n",
       "5022   2019-07-08   \n",
       "\n",
       "                     name  \\\n",
       "id                          \n",
       "2539  Clean & quiet ap...   \n",
       "2595  Skylit Midtown C...   \n",
       "3647  THE VILLAGE OF H...   \n",
       "3831  Cozy Entire Floo...   \n",
       "5022  Entire Apt: Spac...   \n",
       "\n",
       "                  summary  \\\n",
       "id                          \n",
       "2539  Renovated apt ho...   \n",
       "2595  Find your romant...   \n",
       "3647                  NaN   \n",
       "3831  Urban retreat: e...   \n",
       "5022                  NaN   \n",
       "\n",
       "      ...  \\\n",
       "id    ...   \n",
       "2539  ...   \n",
       "2595  ...   \n",
       "3647  ...   \n",
       "3831  ...   \n",
       "5022  ...   \n",
       "\n",
       "     calculated_host_listings_count  \\\n",
       "id                                    \n",
       "2539                    6             \n",
       "2595                    2             \n",
       "3647                    1             \n",
       "3831                    1             \n",
       "5022                    1             \n",
       "\n",
       "     calculated_host_listings_count_entire_homes  \\\n",
       "id                                                 \n",
       "2539                    0                          \n",
       "2595                    1                          \n",
       "3647                    0                          \n",
       "3831                    1                          \n",
       "5022                    1                          \n",
       "\n",
       "     calculated_host_listings_count_private_rooms  \\\n",
       "id                                                  \n",
       "2539                    5                           \n",
       "2595                    0                           \n",
       "3647                    1                           \n",
       "3831                    0                           \n",
       "5022                    0                           \n",
       "\n",
       "     calculated_host_listings_count_shared_rooms  \\\n",
       "id                                                 \n",
       "2539                    1                          \n",
       "2595                    1                          \n",
       "3647                    0                          \n",
       "3831                    0                          \n",
       "5022                    0                          \n",
       "\n",
       "     reviews_per_month  \n",
       "id                      \n",
       "2539              0.21  \n",
       "2595              0.38  \n",
       "3647               NaN  \n",
       "3831              4.64  \n",
       "5022              0.10  \n",
       "\n",
       "[5 rows x 105 columns]"
      ]
     },
     "metadata": {},
     "output_type": "display_data"
    }
   ],
   "source": [
    "data_path = \"./data\"\n",
    "data = pjoin(data_path, 'listings.csv')\n",
    "listings = pd.read_csv(data, index_col=\"id\")\n",
    "display(listings.head())"
   ]
  },
  {
   "cell_type": "code",
   "execution_count": 4,
   "metadata": {},
   "outputs": [],
   "source": [
    "# Define some helper functions and variables for later use.\n",
    "def drop_collist(df, collist):\n",
    "    for c in collist:\n",
    "        if c in df.columns:\n",
    "            df.drop(c, inplace=True, axis=1)\n",
    "    return df\n",
    "\n",
    "def clean_number(v):\n",
    "    if v != v:\n",
    "        return np.nan\n",
    "    v = float(re.sub(\"[^0-9.]\", \"\", v))\n",
    "    return v"
   ]
  },
  {
   "cell_type": "code",
   "execution_count": 5,
   "metadata": {},
   "outputs": [],
   "source": [
    "# there are quite a few columns that contain only metadata\n",
    "# Put the names of these columns into a list to separate them and drop them later\n",
    "cols_to_drop = \\\n",
    "['listing_url','scrape_id', 'last_scraped','experiences_offered', 'thumbnail_url', \n",
    " 'medium_url', 'picture_url', 'xl_picture_url', 'host_id',\n",
    "   'host_url', 'host_name', 'host_acceptance_rate', \n",
    " 'host_thumbnail_url', 'host_picture_url', 'street', 'license']\n",
    "\n",
    "# Let's make a list of all the columns that contain text data\n",
    "text_cols = \\\n",
    "['jurisdiction_names', 'notes','interaction', 'access', 'house_rules', 'neighborhood_overview', \n",
    " 'host_about', 'transit', 'space', 'summary', 'name', 'description']"
   ]
  },
  {
   "cell_type": "code",
   "execution_count": 6,
   "metadata": {},
   "outputs": [],
   "source": [
    "# Get a list of all the columns we would like to keep and clean\n",
    "cols_to_ignore = text_cols + cols_to_drop\n",
    "cols_to_keep = [c for c in listings.columns if c not in cols_to_ignore]"
   ]
  },
  {
   "cell_type": "markdown",
   "metadata": {},
   "source": [
    "## Visualize information about missing values"
   ]
  },
  {
   "cell_type": "code",
   "execution_count": 7,
   "metadata": {},
   "outputs": [
    {
     "data": {
      "image/png": "[encoded data removed]",
      "text/plain": [
       "<Figure size 1152x864 with 1 Axes>"
      ]
     },
     "metadata": {},
     "output_type": "display_data"
    }
   ],
   "source": [
    "nan_df = analyse_nans(listings[cols_to_keep])\n",
    "nan_df_t = nan_df.T\n",
    "nan_df_t.sort_values(by=\"percentage\", inplace=True, ascending=False)\n",
    "nan_df_t = nan_df_t[nan_df_t[\"percentage\"]!=0]\n",
    "f, ax = plt.subplots(1,1,figsize=(16,12))\n",
    "g = sns.barplot(y=nan_df_t.index, x=nan_df_t.percentage, ax=ax)"
   ]
  },
  {
   "cell_type": "markdown",
   "metadata": {},
   "source": [
    "We can tackle these columns by addressing them one group at a time."
   ]
  },
  {
   "cell_type": "markdown",
   "metadata": {},
   "source": [
    "---------------"
   ]
  },
  {
   "cell_type": "markdown",
   "metadata": {},
   "source": [
    "# Price"
   ]
  },
  {
   "cell_type": "markdown",
   "metadata": {},
   "source": [
    "Let's start cleaning the data by formatting the price information into something usable."
   ]
  },
  {
   "cell_type": "code",
   "execution_count": 8,
   "metadata": {},
   "outputs": [],
   "source": [
    "listings[\"price\"] = listings[\"price\"].apply(clean_number)"
   ]
  },
  {
   "cell_type": "markdown",
   "metadata": {},
   "source": [
    "Amongst the rest of the columns. Several columns need not have a direct impact on the business model. \n",
    "\n",
    "We will clean the key players first, and then proceed to the remaining columns"
   ]
  },
  {
   "cell_type": "markdown",
   "metadata": {},
   "source": [
    "# Key columns required for analysis"
   ]
  },
  {
   "cell_type": "markdown",
   "metadata": {},
   "source": [
    "## Columns that are 20-40% empty"
   ]
  },
  {
   "cell_type": "code",
   "execution_count": 9,
   "metadata": {},
   "outputs": [
    {
     "data": {
      "text/html": [
       "<div>\n",
       "<style scoped>\n",
       "    .dataframe tbody tr th:only-of-type {\n",
       "        vertical-align: middle;\n",
       "    }\n",
       "\n",
       "    .dataframe tbody tr th {\n",
       "        vertical-align: top;\n",
       "    }\n",
       "\n",
       "    .dataframe thead th {\n",
       "        text-align: right;\n",
       "    }\n",
       "</style>\n",
       "<table border=\"1\" class=\"dataframe\">\n",
       "  <thead>\n",
       "    <tr style=\"text-align: right;\">\n",
       "      <th></th>\n",
       "      <th>security_deposit</th>\n",
       "      <th>host_response_time</th>\n",
       "      <th>host_response_rate</th>\n",
       "      <th>review_scores_location</th>\n",
       "      <th>review_scores_value</th>\n",
       "      <th>...</th>\n",
       "      <th>review_scores_rating</th>\n",
       "      <th>cleaning_fee</th>\n",
       "      <th>reviews_per_month</th>\n",
       "      <th>last_review</th>\n",
       "      <th>first_review</th>\n",
       "    </tr>\n",
       "  </thead>\n",
       "  <tbody>\n",
       "    <tr>\n",
       "      <th>total</th>\n",
       "      <td>17317</td>\n",
       "      <td>16361</td>\n",
       "      <td>16361</td>\n",
       "      <td>11082</td>\n",
       "      <td>11080</td>\n",
       "      <td>...</td>\n",
       "      <td>11022</td>\n",
       "      <td>10645</td>\n",
       "      <td>10052</td>\n",
       "      <td>10052</td>\n",
       "      <td>10052</td>\n",
       "    </tr>\n",
       "    <tr>\n",
       "      <th>percentage</th>\n",
       "      <td>35.417</td>\n",
       "      <td>33.461</td>\n",
       "      <td>33.461</td>\n",
       "      <td>22.665</td>\n",
       "      <td>22.661</td>\n",
       "      <td>...</td>\n",
       "      <td>22.542</td>\n",
       "      <td>21.771</td>\n",
       "      <td>20.558</td>\n",
       "      <td>20.558</td>\n",
       "      <td>20.558</td>\n",
       "    </tr>\n",
       "  </tbody>\n",
       "</table>\n",
       "<p>2 rows × 14 columns</p>\n",
       "</div>"
      ],
      "text/plain": [
       "           security_deposit  \\\n",
       "total                 17317   \n",
       "percentage           35.417   \n",
       "\n",
       "           host_response_time  \\\n",
       "total                   16361   \n",
       "percentage             33.461   \n",
       "\n",
       "           host_response_rate  \\\n",
       "total                   16361   \n",
       "percentage             33.461   \n",
       "\n",
       "           review_scores_location  \\\n",
       "total                     11082     \n",
       "percentage               22.665     \n",
       "\n",
       "           review_scores_value  \\\n",
       "total                    11080   \n",
       "percentage              22.661   \n",
       "\n",
       "            ...  \\\n",
       "total       ...   \n",
       "percentage  ...   \n",
       "\n",
       "           review_scores_rating  \\\n",
       "total                     11022   \n",
       "percentage               22.542   \n",
       "\n",
       "           cleaning_fee  \\\n",
       "total             10645   \n",
       "percentage       21.771   \n",
       "\n",
       "           reviews_per_month  \\\n",
       "total                  10052   \n",
       "percentage            20.558   \n",
       "\n",
       "           last_review  \\\n",
       "total            10052   \n",
       "percentage      20.558   \n",
       "\n",
       "           first_review  \n",
       "total             10052  \n",
       "percentage       20.558  \n",
       "\n",
       "[2 rows x 14 columns]"
      ]
     },
     "metadata": {},
     "output_type": "display_data"
    },
    {
     "data": {
      "text/html": [
       "<div>\n",
       "<style scoped>\n",
       "    .dataframe tbody tr th:only-of-type {\n",
       "        vertical-align: middle;\n",
       "    }\n",
       "\n",
       "    .dataframe tbody tr th {\n",
       "        vertical-align: top;\n",
       "    }\n",
       "\n",
       "    .dataframe thead th {\n",
       "        text-align: right;\n",
       "    }\n",
       "</style>\n",
       "<table border=\"1\" class=\"dataframe\">\n",
       "  <thead>\n",
       "    <tr style=\"text-align: right;\">\n",
       "      <th></th>\n",
       "      <th>security_deposit</th>\n",
       "      <th>host_response_time</th>\n",
       "      <th>host_response_rate</th>\n",
       "      <th>review_scores_location</th>\n",
       "      <th>review_scores_value</th>\n",
       "      <th>...</th>\n",
       "      <th>review_scores_rating</th>\n",
       "      <th>cleaning_fee</th>\n",
       "      <th>reviews_per_month</th>\n",
       "      <th>last_review</th>\n",
       "      <th>first_review</th>\n",
       "    </tr>\n",
       "    <tr>\n",
       "      <th>id</th>\n",
       "      <th></th>\n",
       "      <th></th>\n",
       "      <th></th>\n",
       "      <th></th>\n",
       "      <th></th>\n",
       "      <th></th>\n",
       "      <th></th>\n",
       "      <th></th>\n",
       "      <th></th>\n",
       "      <th></th>\n",
       "      <th></th>\n",
       "    </tr>\n",
       "  </thead>\n",
       "  <tbody>\n",
       "    <tr>\n",
       "      <th>2539</th>\n",
       "      <td>$100.00</td>\n",
       "      <td>within an hour</td>\n",
       "      <td>100%</td>\n",
       "      <td>10.0</td>\n",
       "      <td>10.0</td>\n",
       "      <td>...</td>\n",
       "      <td>98.0</td>\n",
       "      <td>$25.00</td>\n",
       "      <td>0.21</td>\n",
       "      <td>2018-10-19</td>\n",
       "      <td>2015-12-04</td>\n",
       "    </tr>\n",
       "    <tr>\n",
       "      <th>2595</th>\n",
       "      <td>$350.00</td>\n",
       "      <td>within a few hours</td>\n",
       "      <td>87%</td>\n",
       "      <td>10.0</td>\n",
       "      <td>9.0</td>\n",
       "      <td>...</td>\n",
       "      <td>95.0</td>\n",
       "      <td>$100.00</td>\n",
       "      <td>0.38</td>\n",
       "      <td>2019-05-21</td>\n",
       "      <td>2009-11-21</td>\n",
       "    </tr>\n",
       "    <tr>\n",
       "      <th>3647</th>\n",
       "      <td>$200.00</td>\n",
       "      <td>within a day</td>\n",
       "      <td>100%</td>\n",
       "      <td>NaN</td>\n",
       "      <td>NaN</td>\n",
       "      <td>...</td>\n",
       "      <td>NaN</td>\n",
       "      <td>$75.00</td>\n",
       "      <td>NaN</td>\n",
       "      <td>NaN</td>\n",
       "      <td>NaN</td>\n",
       "    </tr>\n",
       "    <tr>\n",
       "      <th>3831</th>\n",
       "      <td>$500.00</td>\n",
       "      <td>within a few hours</td>\n",
       "      <td>93%</td>\n",
       "      <td>10.0</td>\n",
       "      <td>9.0</td>\n",
       "      <td>...</td>\n",
       "      <td>90.0</td>\n",
       "      <td>NaN</td>\n",
       "      <td>4.64</td>\n",
       "      <td>2019-07-05</td>\n",
       "      <td>2014-09-30</td>\n",
       "    </tr>\n",
       "    <tr>\n",
       "      <th>5022</th>\n",
       "      <td>$100.00</td>\n",
       "      <td>NaN</td>\n",
       "      <td>NaN</td>\n",
       "      <td>9.0</td>\n",
       "      <td>10.0</td>\n",
       "      <td>...</td>\n",
       "      <td>93.0</td>\n",
       "      <td>$80.00</td>\n",
       "      <td>0.10</td>\n",
       "      <td>2018-11-19</td>\n",
       "      <td>2012-03-20</td>\n",
       "    </tr>\n",
       "  </tbody>\n",
       "</table>\n",
       "<p>5 rows × 14 columns</p>\n",
       "</div>"
      ],
      "text/plain": [
       "     security_deposit  \\\n",
       "id                      \n",
       "2539          $100.00   \n",
       "2595          $350.00   \n",
       "3647          $200.00   \n",
       "3831          $500.00   \n",
       "5022          $100.00   \n",
       "\n",
       "      host_response_time  \\\n",
       "id                         \n",
       "2539      within an hour   \n",
       "2595  within a few hours   \n",
       "3647        within a day   \n",
       "3831  within a few hours   \n",
       "5022                 NaN   \n",
       "\n",
       "     host_response_rate  \\\n",
       "id                        \n",
       "2539               100%   \n",
       "2595                87%   \n",
       "3647               100%   \n",
       "3831                93%   \n",
       "5022                NaN   \n",
       "\n",
       "      review_scores_location  \\\n",
       "id                             \n",
       "2539                 10.0      \n",
       "2595                 10.0      \n",
       "3647                  NaN      \n",
       "3831                 10.0      \n",
       "5022                  9.0      \n",
       "\n",
       "      review_scores_value  \\\n",
       "id                          \n",
       "2539                 10.0   \n",
       "2595                  9.0   \n",
       "3647                  NaN   \n",
       "3831                  9.0   \n",
       "5022                 10.0   \n",
       "\n",
       "      ...  \\\n",
       "id    ...   \n",
       "2539  ...   \n",
       "2595  ...   \n",
       "3647  ...   \n",
       "3831  ...   \n",
       "5022  ...   \n",
       "\n",
       "      review_scores_rating  \\\n",
       "id                           \n",
       "2539                 98.0    \n",
       "2595                 95.0    \n",
       "3647                  NaN    \n",
       "3831                 90.0    \n",
       "5022                 93.0    \n",
       "\n",
       "      cleaning_fee  \\\n",
       "id                   \n",
       "2539        $25.00   \n",
       "2595       $100.00   \n",
       "3647        $75.00   \n",
       "3831           NaN   \n",
       "5022        $80.00   \n",
       "\n",
       "      reviews_per_month  \\\n",
       "id                        \n",
       "2539               0.21   \n",
       "2595               0.38   \n",
       "3647                NaN   \n",
       "3831               4.64   \n",
       "5022               0.10   \n",
       "\n",
       "      last_review  \\\n",
       "id                  \n",
       "2539   2018-10-19   \n",
       "2595   2019-05-21   \n",
       "3647          NaN   \n",
       "3831   2019-07-05   \n",
       "5022   2018-11-19   \n",
       "\n",
       "      first_review  \n",
       "id                  \n",
       "2539    2015-12-04  \n",
       "2595    2009-11-21  \n",
       "3647           NaN  \n",
       "3831    2014-09-30  \n",
       "5022    2012-03-20  \n",
       "\n",
       "[5 rows x 14 columns]"
      ]
     },
     "metadata": {},
     "output_type": "display_data"
    }
   ],
   "source": [
    "# Get a subset of all the columns that have 2-40% missing values\n",
    "cols_20_40 = nan_df_t[nan_df_t[\"percentage\"].between(20,40)].index\n",
    "display(\n",
    "    analyse_nans(listings[cols_20_40]).iloc[:2,:],\n",
    "    listings[cols_20_40].head()\n",
    ")"
   ]
  },
  {
   "cell_type": "markdown",
   "metadata": {},
   "source": [
    "### cleaning_fee"
   ]
  },
  {
   "cell_type": "markdown",
   "metadata": {},
   "source": [
    "Cleaning Fee can translate into maintainence costs down the line for property. \n",
    "\n",
    "Let's first format the information so that it is easily digestible."
   ]
  },
  {
   "cell_type": "code",
   "execution_count": 10,
   "metadata": {},
   "outputs": [],
   "source": [
    "listings[\"cleaning_fee\"] = listings[\"cleaning_fee\"].apply(clean_number)"
   ]
  },
  {
   "cell_type": "code",
   "execution_count": 11,
   "metadata": {},
   "outputs": [
    {
     "data": {
      "text/plain": [
       "id\n",
       "2539     25.0\n",
       "2595    100.0\n",
       "3647     75.0\n",
       "3831      NaN\n",
       "5022     80.0\n",
       "Name: cleaning_fee, dtype: float64"
      ]
     },
     "execution_count": 11,
     "metadata": {},
     "output_type": "execute_result"
    }
   ],
   "source": [
    "listings[\"cleaning_fee\"].head()"
   ]
  },
  {
   "cell_type": "code",
   "execution_count": 12,
   "metadata": {},
   "outputs": [
    {
     "data": {
      "image/png": "[encoded data removed]",
      "text/plain": [
       "<Figure size 504x360 with 1 Axes>"
      ]
     },
     "metadata": {},
     "output_type": "display_data"
    }
   ],
   "source": [
    "f, ax = plt.subplots(1,1,figsize=(7,5))\n",
    "g = sns.distplot(listings[\"cleaning_fee\"].dropna(), ax=ax, kde=False)\n",
    "l = ax.axvline(x=listings[\"cleaning_fee\"].median(), linestyle=\"--\")"
   ]
  },
  {
   "cell_type": "markdown",
   "metadata": {},
   "source": [
    "The cleaning fee is fairly common, and a right skewed distribution."
   ]
  },
  {
   "cell_type": "markdown",
   "metadata": {},
   "source": [
    "Fill the cleaning fee with the median value"
   ]
  },
  {
   "cell_type": "code",
   "execution_count": 13,
   "metadata": {},
   "outputs": [],
   "source": [
    "listings[\"cleaning_fee\"] = listings[\"cleaning_fee\"].fillna(listings[\"cleaning_fee\"].median())"
   ]
  },
  {
   "cell_type": "markdown",
   "metadata": {},
   "source": [
    "### \tsecurity_deposit"
   ]
  },
  {
   "cell_type": "markdown",
   "metadata": {},
   "source": [
    "Security deposits are essentially additional (recoverable) costs that a customer has to incurr.\n",
    "\n",
    "This information may have a role in deciding pricing of a listing."
   ]
  },
  {
   "cell_type": "code",
   "execution_count": 14,
   "metadata": {},
   "outputs": [],
   "source": [
    "listings[\"security_deposit\"] = listings[\"security_deposit\"].apply(clean_number)"
   ]
  },
  {
   "cell_type": "code",
   "execution_count": 15,
   "metadata": {},
   "outputs": [
    {
     "data": {
      "image/png": "[encoded data removed]",
      "text/plain": [
       "<Figure size 504x360 with 1 Axes>"
      ]
     },
     "metadata": {},
     "output_type": "display_data"
    }
   ],
   "source": [
    "f, ax = plt.subplots(1,1,figsize=(7,5))\n",
    "g = sns.distplot(listings[\"security_deposit\"].dropna(), ax=ax, kde=False)\n",
    "l = ax.axvline(x=listings[\"security_deposit\"].median(), linestyle=\"--\")"
   ]
  },
  {
   "cell_type": "markdown",
   "metadata": {},
   "source": [
    "Most listings do not seem to request a security deposit"
   ]
  },
  {
   "cell_type": "markdown",
   "metadata": {},
   "source": [
    "It may be prudent to fill the missing values of security deposit with 0"
   ]
  },
  {
   "cell_type": "code",
   "execution_count": 16,
   "metadata": {
    "scrolled": false
   },
   "outputs": [],
   "source": [
    "listings[\"security_deposit\"] = listings[\"security_deposit\"].fillna(0)"
   ]
  },
  {
   "cell_type": "markdown",
   "metadata": {},
   "source": [
    "-------------------"
   ]
  },
  {
   "cell_type": "markdown",
   "metadata": {},
   "source": [
    "## Columns that are 0-20% empty"
   ]
  },
  {
   "cell_type": "code",
   "execution_count": 17,
   "metadata": {},
   "outputs": [
    {
     "data": {
      "text/html": [
       "<div>\n",
       "<style scoped>\n",
       "    .dataframe tbody tr th:only-of-type {\n",
       "        vertical-align: middle;\n",
       "    }\n",
       "\n",
       "    .dataframe tbody tr th {\n",
       "        vertical-align: top;\n",
       "    }\n",
       "\n",
       "    .dataframe thead th {\n",
       "        text-align: right;\n",
       "    }\n",
       "</style>\n",
       "<table border=\"1\" class=\"dataframe\">\n",
       "  <thead>\n",
       "    <tr style=\"text-align: right;\">\n",
       "      <th></th>\n",
       "      <th>host_neighbourhood</th>\n",
       "      <th>zipcode</th>\n",
       "      <th>host_location</th>\n",
       "      <th>market</th>\n",
       "      <th>city</th>\n",
       "      <th>...</th>\n",
       "      <th>host_identity_verified</th>\n",
       "      <th>host_has_profile_pic</th>\n",
       "      <th>host_total_listings_count</th>\n",
       "      <th>neighbourhood</th>\n",
       "      <th>state</th>\n",
       "    </tr>\n",
       "  </thead>\n",
       "  <tbody>\n",
       "    <tr>\n",
       "      <th>total</th>\n",
       "      <td>6529</td>\n",
       "      <td>517</td>\n",
       "      <td>164</td>\n",
       "      <td>109</td>\n",
       "      <td>62</td>\n",
       "      <td>...</td>\n",
       "      <td>21</td>\n",
       "      <td>21</td>\n",
       "      <td>21</td>\n",
       "      <td>12</td>\n",
       "      <td>6</td>\n",
       "    </tr>\n",
       "    <tr>\n",
       "      <th>percentage</th>\n",
       "      <td>13.353</td>\n",
       "      <td>1.057</td>\n",
       "      <td>0.335</td>\n",
       "      <td>0.223</td>\n",
       "      <td>0.127</td>\n",
       "      <td>...</td>\n",
       "      <td>0.043</td>\n",
       "      <td>0.043</td>\n",
       "      <td>0.043</td>\n",
       "      <td>0.025</td>\n",
       "      <td>0.012</td>\n",
       "    </tr>\n",
       "  </tbody>\n",
       "</table>\n",
       "<p>2 rows × 16 columns</p>\n",
       "</div>"
      ],
      "text/plain": [
       "           host_neighbourhood  \\\n",
       "total                    6529   \n",
       "percentage             13.353   \n",
       "\n",
       "           zipcode  \\\n",
       "total          517   \n",
       "percentage   1.057   \n",
       "\n",
       "           host_location  \\\n",
       "total                164   \n",
       "percentage         0.335   \n",
       "\n",
       "           market   city  \\\n",
       "total         109     62   \n",
       "percentage  0.223  0.127   \n",
       "\n",
       "            ...  \\\n",
       "total       ...   \n",
       "percentage  ...   \n",
       "\n",
       "           host_identity_verified  \\\n",
       "total                        21     \n",
       "percentage                0.043     \n",
       "\n",
       "           host_has_profile_pic  \\\n",
       "total                        21   \n",
       "percentage                0.043   \n",
       "\n",
       "           host_total_listings_count  \\\n",
       "total                        21        \n",
       "percentage                0.043        \n",
       "\n",
       "           neighbourhood  \\\n",
       "total                 12   \n",
       "percentage         0.025   \n",
       "\n",
       "            state  \n",
       "total           6  \n",
       "percentage  0.012  \n",
       "\n",
       "[2 rows x 16 columns]"
      ]
     },
     "metadata": {},
     "output_type": "display_data"
    },
    {
     "data": {
      "text/html": [
       "<div>\n",
       "<style scoped>\n",
       "    .dataframe tbody tr th:only-of-type {\n",
       "        vertical-align: middle;\n",
       "    }\n",
       "\n",
       "    .dataframe tbody tr th {\n",
       "        vertical-align: top;\n",
       "    }\n",
       "\n",
       "    .dataframe thead th {\n",
       "        text-align: right;\n",
       "    }\n",
       "</style>\n",
       "<table border=\"1\" class=\"dataframe\">\n",
       "  <thead>\n",
       "    <tr style=\"text-align: right;\">\n",
       "      <th></th>\n",
       "      <th>host_neighbourhood</th>\n",
       "      <th>zipcode</th>\n",
       "      <th>host_location</th>\n",
       "      <th>market</th>\n",
       "      <th>city</th>\n",
       "      <th>...</th>\n",
       "      <th>host_identity_verified</th>\n",
       "      <th>host_has_profile_pic</th>\n",
       "      <th>host_total_listings_count</th>\n",
       "      <th>neighbourhood</th>\n",
       "      <th>state</th>\n",
       "    </tr>\n",
       "    <tr>\n",
       "      <th>id</th>\n",
       "      <th></th>\n",
       "      <th></th>\n",
       "      <th></th>\n",
       "      <th></th>\n",
       "      <th></th>\n",
       "      <th></th>\n",
       "      <th></th>\n",
       "      <th></th>\n",
       "      <th></th>\n",
       "      <th></th>\n",
       "      <th></th>\n",
       "    </tr>\n",
       "  </thead>\n",
       "  <tbody>\n",
       "    <tr>\n",
       "      <th>2539</th>\n",
       "      <td>Gravesend</td>\n",
       "      <td>11218</td>\n",
       "      <td>New York, New Yo...</td>\n",
       "      <td>New York</td>\n",
       "      <td>Brooklyn</td>\n",
       "      <td>...</td>\n",
       "      <td>t</td>\n",
       "      <td>t</td>\n",
       "      <td>6.0</td>\n",
       "      <td>Brooklyn</td>\n",
       "      <td>NY</td>\n",
       "    </tr>\n",
       "    <tr>\n",
       "      <th>2595</th>\n",
       "      <td>Midtown</td>\n",
       "      <td>10018</td>\n",
       "      <td>New York, New Yo...</td>\n",
       "      <td>New York</td>\n",
       "      <td>New York</td>\n",
       "      <td>...</td>\n",
       "      <td>t</td>\n",
       "      <td>t</td>\n",
       "      <td>5.0</td>\n",
       "      <td>Manhattan</td>\n",
       "      <td>NY</td>\n",
       "    </tr>\n",
       "    <tr>\n",
       "      <th>3647</th>\n",
       "      <td>Harlem</td>\n",
       "      <td>10027</td>\n",
       "      <td>New York, New Yo...</td>\n",
       "      <td>New York</td>\n",
       "      <td>New York</td>\n",
       "      <td>...</td>\n",
       "      <td>t</td>\n",
       "      <td>t</td>\n",
       "      <td>1.0</td>\n",
       "      <td>Harlem</td>\n",
       "      <td>NY</td>\n",
       "    </tr>\n",
       "    <tr>\n",
       "      <th>3831</th>\n",
       "      <td>Clinton Hill</td>\n",
       "      <td>11238</td>\n",
       "      <td>New York, New Yo...</td>\n",
       "      <td>New York</td>\n",
       "      <td>Brooklyn</td>\n",
       "      <td>...</td>\n",
       "      <td>t</td>\n",
       "      <td>t</td>\n",
       "      <td>1.0</td>\n",
       "      <td>Brooklyn</td>\n",
       "      <td>NY</td>\n",
       "    </tr>\n",
       "    <tr>\n",
       "      <th>5022</th>\n",
       "      <td>East Harlem</td>\n",
       "      <td>10029</td>\n",
       "      <td>Miami, Florida, ...</td>\n",
       "      <td>New York</td>\n",
       "      <td>New York</td>\n",
       "      <td>...</td>\n",
       "      <td>t</td>\n",
       "      <td>t</td>\n",
       "      <td>1.0</td>\n",
       "      <td>East Harlem</td>\n",
       "      <td>NY</td>\n",
       "    </tr>\n",
       "  </tbody>\n",
       "</table>\n",
       "<p>5 rows × 16 columns</p>\n",
       "</div>"
      ],
      "text/plain": [
       "     host_neighbourhood  \\\n",
       "id                        \n",
       "2539          Gravesend   \n",
       "2595            Midtown   \n",
       "3647             Harlem   \n",
       "3831       Clinton Hill   \n",
       "5022        East Harlem   \n",
       "\n",
       "     zipcode  \\\n",
       "id             \n",
       "2539   11218   \n",
       "2595   10018   \n",
       "3647   10027   \n",
       "3831   11238   \n",
       "5022   10029   \n",
       "\n",
       "            host_location  \\\n",
       "id                          \n",
       "2539  New York, New Yo...   \n",
       "2595  New York, New Yo...   \n",
       "3647  New York, New Yo...   \n",
       "3831  New York, New Yo...   \n",
       "5022  Miami, Florida, ...   \n",
       "\n",
       "        market       city  \\\n",
       "id                          \n",
       "2539  New York  Brooklyn    \n",
       "2595  New York   New York   \n",
       "3647  New York   New York   \n",
       "3831  New York   Brooklyn   \n",
       "5022  New York   New York   \n",
       "\n",
       "      ...  \\\n",
       "id    ...   \n",
       "2539  ...   \n",
       "2595  ...   \n",
       "3647  ...   \n",
       "3831  ...   \n",
       "5022  ...   \n",
       "\n",
       "      host_identity_verified  \\\n",
       "id                             \n",
       "2539                    t      \n",
       "2595                    t      \n",
       "3647                    t      \n",
       "3831                    t      \n",
       "5022                    t      \n",
       "\n",
       "      host_has_profile_pic  \\\n",
       "id                           \n",
       "2539                    t    \n",
       "2595                    t    \n",
       "3647                    t    \n",
       "3831                    t    \n",
       "5022                    t    \n",
       "\n",
       "      host_total_listings_count  \\\n",
       "id                                \n",
       "2539                  6.0         \n",
       "2595                  5.0         \n",
       "3647                  1.0         \n",
       "3831                  1.0         \n",
       "5022                  1.0         \n",
       "\n",
       "     neighbourhood state  \n",
       "id                        \n",
       "2539      Brooklyn    NY  \n",
       "2595     Manhattan    NY  \n",
       "3647        Harlem    NY  \n",
       "3831      Brooklyn    NY  \n",
       "5022   East Harlem    NY  \n",
       "\n",
       "[5 rows x 16 columns]"
      ]
     },
     "metadata": {},
     "output_type": "display_data"
    }
   ],
   "source": [
    "cols_20 = nan_df_t[nan_df_t[\"percentage\"]<=20].index\n",
    "display(\n",
    "    analyse_nans(listings[cols_20]).iloc[:2,:],\n",
    "    listings[cols_20].head()\n",
    ")"
   ]
  },
  {
   "cell_type": "markdown",
   "metadata": {},
   "source": [
    "### extra_people"
   ]
  },
  {
   "cell_type": "code",
   "execution_count": 18,
   "metadata": {},
   "outputs": [],
   "source": [
    "listings[\"extra_people\"] = listings[\"extra_people\"].apply(clean_number)"
   ]
  },
  {
   "cell_type": "markdown",
   "metadata": {},
   "source": [
    "### neighbourhood"
   ]
  },
  {
   "cell_type": "code",
   "execution_count": 19,
   "metadata": {},
   "outputs": [],
   "source": [
    "q = \"neighbourhood!=neighbourhood\"\n",
    "analyse_nans(listings[[\"neighbourhood_cleansed\", \"neighbourhood\"]])\n",
    "# It might be safer to fill the neighborhood column with missing values from the neighborhood_cleansed column\n",
    "listings[\"neighbourhood\"] = listings[\"neighbourhood\"].fillna(listings[\"neighbourhood_cleansed\"])"
   ]
  },
  {
   "cell_type": "markdown",
   "metadata": {},
   "source": [
    "###  city"
   ]
  },
  {
   "cell_type": "code",
   "execution_count": 20,
   "metadata": {
    "scrolled": false
   },
   "outputs": [
    {
     "data": {
      "text/plain": [
       "New York            21934\n",
       "Brooklyn            18978\n",
       "Queens               4328\n",
       "Bronx                 773\n",
       "Brooklyn              694\n",
       "Staten Island         346\n",
       "The Bronx             213\n",
       "Astoria               146\n",
       "Long Island City       81\n",
       "New York               81\n",
       "Name: city, dtype: int64"
      ]
     },
     "metadata": {},
     "output_type": "display_data"
    }
   ],
   "source": [
    "q = \"city != city\"\n",
    "# Let's look at the top 10 most common entries in this field\n",
    "city_vcs = listings[\"city\"].value_counts()\n",
    "display(city_vcs[:10])"
   ]
  },
  {
   "cell_type": "code",
   "execution_count": 21,
   "metadata": {},
   "outputs": [],
   "source": [
    "# It may be a safe bet to fill the remaining missing values as the most occuring value\n",
    "listings[\"city\"].fillna(city_vcs.index[0], inplace=True)"
   ]
  },
  {
   "cell_type": "markdown",
   "metadata": {},
   "source": [
    "### bedrooms"
   ]
  },
  {
   "cell_type": "markdown",
   "metadata": {},
   "source": [
    "We can fill the number of bedrooms with 0"
   ]
  },
  {
   "cell_type": "code",
   "execution_count": 22,
   "metadata": {},
   "outputs": [],
   "source": [
    "listings[\"bedrooms\"] = listings[\"bedrooms\"].fillna(0)"
   ]
  },
  {
   "cell_type": "markdown",
   "metadata": {},
   "source": [
    "###  beds"
   ]
  },
  {
   "cell_type": "code",
   "execution_count": 23,
   "metadata": {},
   "outputs": [
    {
     "name": "stdout",
     "output_type": "stream",
     "text": [
      "Number of missings rows for beds : 40\n"
     ]
    }
   ],
   "source": [
    "print(\"Number of missings rows for beds :\", listings.query(\"beds!=beds\").shape[0])"
   ]
  },
  {
   "cell_type": "code",
   "execution_count": 24,
   "metadata": {},
   "outputs": [],
   "source": [
    "# We can fill the number of missing beds as equal to the number of bedrooms present.\n",
    "# If no bedrooms are specified, then fill beds as 0\n",
    "listings[\"beds\"] = listings[\"beds\"].fillna(listings[\"bedrooms\"])"
   ]
  },
  {
   "cell_type": "markdown",
   "metadata": {},
   "source": [
    "###  bathrooms"
   ]
  },
  {
   "cell_type": "code",
   "execution_count": 25,
   "metadata": {},
   "outputs": [
    {
     "name": "stdout",
     "output_type": "stream",
     "text": [
      "Number of missings rows for bathrooms : 56\n"
     ]
    }
   ],
   "source": [
    "print(\"Number of missings rows for bathrooms :\", listings.query(\"bathrooms!=bathrooms\").shape[0])"
   ]
  },
  {
   "cell_type": "code",
   "execution_count": 26,
   "metadata": {},
   "outputs": [],
   "source": [
    "listings[\"bathrooms\"] = listings[\"bathrooms\"].fillna(1)"
   ]
  },
  {
   "cell_type": "markdown",
   "metadata": {},
   "source": [
    "### zipcode"
   ]
  },
  {
   "cell_type": "code",
   "execution_count": 27,
   "metadata": {},
   "outputs": [
    {
     "data": {
      "text/plain": [
       "(517, 105)"
      ]
     },
     "execution_count": 27,
     "metadata": {},
     "output_type": "execute_result"
    }
   ],
   "source": [
    "q = \"zipcode!=zipcode\"\n",
    "listings.query(q).shape"
   ]
  },
  {
   "cell_type": "markdown",
   "metadata": {},
   "source": [
    "Zipcode is generally a powerful feature, and imputing missing zipcode values incorrectly may have adverse effects on analysis and modeling.\n",
    "\n",
    "To that end, we will remove those rows where the zipcode is missing."
   ]
  },
  {
   "cell_type": "code",
   "execution_count": 28,
   "metadata": {},
   "outputs": [],
   "source": [
    "listings.dropna(subset=['zipcode'], inplace=True)"
   ]
  },
  {
   "cell_type": "code",
   "execution_count": 29,
   "metadata": {},
   "outputs": [
    {
     "data": {
      "text/html": [
       "<div>\n",
       "<style scoped>\n",
       "    .dataframe tbody tr th:only-of-type {\n",
       "        vertical-align: middle;\n",
       "    }\n",
       "\n",
       "    .dataframe tbody tr th {\n",
       "        vertical-align: top;\n",
       "    }\n",
       "\n",
       "    .dataframe thead th {\n",
       "        text-align: right;\n",
       "    }\n",
       "</style>\n",
       "<table border=\"1\" class=\"dataframe\">\n",
       "  <thead>\n",
       "    <tr style=\"text-align: right;\">\n",
       "      <th></th>\n",
       "      <th>host_neighbourhood</th>\n",
       "      <th>zipcode</th>\n",
       "      <th>host_location</th>\n",
       "      <th>market</th>\n",
       "      <th>city</th>\n",
       "      <th>...</th>\n",
       "      <th>host_identity_verified</th>\n",
       "      <th>host_has_profile_pic</th>\n",
       "      <th>host_total_listings_count</th>\n",
       "      <th>neighbourhood</th>\n",
       "      <th>state</th>\n",
       "    </tr>\n",
       "  </thead>\n",
       "  <tbody>\n",
       "    <tr>\n",
       "      <th>total</th>\n",
       "      <td>6090</td>\n",
       "      <td>0</td>\n",
       "      <td>164</td>\n",
       "      <td>109</td>\n",
       "      <td>0</td>\n",
       "      <td>...</td>\n",
       "      <td>21</td>\n",
       "      <td>21</td>\n",
       "      <td>21</td>\n",
       "      <td>0</td>\n",
       "      <td>4</td>\n",
       "    </tr>\n",
       "    <tr>\n",
       "      <th>percentage</th>\n",
       "      <td>12.588</td>\n",
       "      <td>0</td>\n",
       "      <td>0.339</td>\n",
       "      <td>0.225</td>\n",
       "      <td>0</td>\n",
       "      <td>...</td>\n",
       "      <td>0.043</td>\n",
       "      <td>0.043</td>\n",
       "      <td>0.043</td>\n",
       "      <td>0</td>\n",
       "      <td>0.008</td>\n",
       "    </tr>\n",
       "    <tr>\n",
       "      <th>idx_list</th>\n",
       "      <td>[100184, 214917,...</td>\n",
       "      <td>[]</td>\n",
       "      <td>[100184, 1449546...</td>\n",
       "      <td>[12895146, 12914...</td>\n",
       "      <td>[]</td>\n",
       "      <td>...</td>\n",
       "      <td>[100184, 1449546...</td>\n",
       "      <td>[100184, 1449546...</td>\n",
       "      <td>[100184, 1449546...</td>\n",
       "      <td>[]</td>\n",
       "      <td>[391948, 2845844...</td>\n",
       "    </tr>\n",
       "  </tbody>\n",
       "</table>\n",
       "<p>3 rows × 16 columns</p>\n",
       "</div>"
      ],
      "text/plain": [
       "             host_neighbourhood  \\\n",
       "total                      6090   \n",
       "percentage               12.588   \n",
       "idx_list    [100184, 214917,...   \n",
       "\n",
       "           zipcode  \\\n",
       "total            0   \n",
       "percentage       0   \n",
       "idx_list        []   \n",
       "\n",
       "                  host_location  \\\n",
       "total                       164   \n",
       "percentage                0.339   \n",
       "idx_list    [100184, 1449546...   \n",
       "\n",
       "                         market  \\\n",
       "total                       109   \n",
       "percentage                0.225   \n",
       "idx_list    [12895146, 12914...   \n",
       "\n",
       "           city  ...  \\\n",
       "total         0  ...   \n",
       "percentage    0  ...   \n",
       "idx_list     []  ...   \n",
       "\n",
       "           host_identity_verified  \\\n",
       "total                        21     \n",
       "percentage                0.043     \n",
       "idx_list    [100184, 1449546...     \n",
       "\n",
       "           host_has_profile_pic  \\\n",
       "total                        21   \n",
       "percentage                0.043   \n",
       "idx_list    [100184, 1449546...   \n",
       "\n",
       "           host_total_listings_count  \\\n",
       "total                        21        \n",
       "percentage                0.043        \n",
       "idx_list    [100184, 1449546...        \n",
       "\n",
       "           neighbourhood  \\\n",
       "total                  0   \n",
       "percentage             0   \n",
       "idx_list              []   \n",
       "\n",
       "                          state  \n",
       "total                         4  \n",
       "percentage                0.008  \n",
       "idx_list    [391948, 2845844...  \n",
       "\n",
       "[3 rows x 16 columns]"
      ]
     },
     "execution_count": 29,
     "metadata": {},
     "output_type": "execute_result"
    }
   ],
   "source": [
    "analyse_nans(listings[cols_20])"
   ]
  },
  {
   "cell_type": "markdown",
   "metadata": {},
   "source": [
    "### state "
   ]
  },
  {
   "cell_type": "code",
   "execution_count": 30,
   "metadata": {},
   "outputs": [
    {
     "data": {
      "text/plain": [
       "NY           48359\n",
       "Ny               6\n",
       "ny               3\n",
       "CA               2\n",
       "NJ               2\n",
       "MP               1\n",
       "New York         1\n",
       "Name: state, dtype: int64"
      ]
     },
     "execution_count": 30,
     "metadata": {},
     "output_type": "execute_result"
    }
   ],
   "source": [
    "q = \"state!=state\"\n",
    "listings[\"state\"].value_counts()"
   ]
  },
  {
   "cell_type": "markdown",
   "metadata": {},
   "source": [
    "We do not need this column. But it seems there are some rows that we may need to drop. \n",
    "Once these rows are removed, we can drop the column"
   ]
  },
  {
   "cell_type": "code",
   "execution_count": 31,
   "metadata": {},
   "outputs": [],
   "source": [
    "# There seem to be some rows where the state is not in NY.\n",
    "# We can remove these rows\n",
    "wrong_states = [\"CA\",\"NJ\",\"MP\"]\n",
    "wrong_state_indices = listings[listings[\"state\"].isin(wrong_states)].index.values\n",
    "for idx in wrong_state_indices:\n",
    "    if idx in listings.index.values:\n",
    "        listings.drop(idx, axis=0, inplace=True)\n",
    "        \n",
    "# listings = drop_collist(listings, [\"state\"])"
   ]
  },
  {
   "cell_type": "markdown",
   "metadata": {},
   "source": [
    "# Other columns"
   ]
  },
  {
   "cell_type": "markdown",
   "metadata": {},
   "source": [
    "These need not have a direct influence on price.\n",
    "\n",
    "However it may be prudent that they are cleaned for posterity."
   ]
  },
  {
   "cell_type": "markdown",
   "metadata": {},
   "source": [
    "### host_response_time"
   ]
  },
  {
   "cell_type": "code",
   "execution_count": 32,
   "metadata": {},
   "outputs": [
    {
     "data": {
      "text/html": [
       "<div>\n",
       "<style scoped>\n",
       "    .dataframe tbody tr th:only-of-type {\n",
       "        vertical-align: middle;\n",
       "    }\n",
       "\n",
       "    .dataframe tbody tr th {\n",
       "        vertical-align: top;\n",
       "    }\n",
       "\n",
       "    .dataframe thead th {\n",
       "        text-align: right;\n",
       "    }\n",
       "</style>\n",
       "<table border=\"1\" class=\"dataframe\">\n",
       "  <thead>\n",
       "    <tr style=\"text-align: right;\">\n",
       "      <th></th>\n",
       "      <th>host_response_time</th>\n",
       "    </tr>\n",
       "  </thead>\n",
       "  <tbody>\n",
       "    <tr>\n",
       "      <th>total</th>\n",
       "      <td>16117</td>\n",
       "    </tr>\n",
       "    <tr>\n",
       "      <th>percentage</th>\n",
       "      <td>33.318</td>\n",
       "    </tr>\n",
       "  </tbody>\n",
       "</table>\n",
       "</div>"
      ],
      "text/plain": [
       "           host_response_time\n",
       "total                   16117\n",
       "percentage             33.318"
      ]
     },
     "execution_count": 32,
     "metadata": {},
     "output_type": "execute_result"
    }
   ],
   "source": [
    "analyse_nans(listings[[\"host_response_time\"]]).iloc[:2]"
   ]
  },
  {
   "cell_type": "code",
   "execution_count": 33,
   "metadata": {},
   "outputs": [
    {
     "data": {
      "text/plain": [
       "within an hour        18791\n",
       "within a few hours     7687\n",
       "within a day           4780\n",
       "a few days or more      998\n",
       "Name: host_response_time, dtype: int64"
      ]
     },
     "execution_count": 33,
     "metadata": {},
     "output_type": "execute_result"
    }
   ],
   "source": [
    "listings[\"host_response_time\"].value_counts()"
   ]
  },
  {
   "cell_type": "markdown",
   "metadata": {},
   "source": [
    "Rather than biasing any category, it my be prudent to fill this column with a separate category instead"
   ]
  },
  {
   "cell_type": "code",
   "execution_count": 34,
   "metadata": {},
   "outputs": [],
   "source": [
    "listings[\"host_response_time\"].fillna(\"XX\", inplace=True)"
   ]
  },
  {
   "cell_type": "markdown",
   "metadata": {},
   "source": [
    "### host_response_rate"
   ]
  },
  {
   "cell_type": "code",
   "execution_count": 35,
   "metadata": {},
   "outputs": [],
   "source": [
    "listings[\"host_response_rate\"] = listings[\"host_response_rate\"].apply(clean_number)"
   ]
  },
  {
   "cell_type": "code",
   "execution_count": 36,
   "metadata": {},
   "outputs": [
    {
     "data": {
      "image/png": "[encoded data removed]",
      "text/plain": [
       "<Figure size 504x360 with 1 Axes>"
      ]
     },
     "metadata": {},
     "output_type": "display_data"
    }
   ],
   "source": [
    "f, ax = plt.subplots(1,1,figsize=(7,5))\n",
    "g = sns.distplot(listings[\"host_response_rate\"].dropna(), ax=ax, kde=False)\n",
    "l = ax.axvline(x=listings[\"host_response_rate\"].median(), linestyle=\"--\")"
   ]
  },
  {
   "cell_type": "markdown",
   "metadata": {},
   "source": [
    "It would seem most hosts do respond. So we can fill this with the most occuring value"
   ]
  },
  {
   "cell_type": "code",
   "execution_count": 37,
   "metadata": {},
   "outputs": [],
   "source": [
    "hrr_vcs= listings[\"host_response_rate\"].value_counts()\n",
    "listings[\"host_response_rate\"].fillna(hrr_vcs.index[0], inplace=True)"
   ]
  },
  {
   "cell_type": "markdown",
   "metadata": {},
   "source": [
    "### Reviews"
   ]
  },
  {
   "cell_type": "code",
   "execution_count": 38,
   "metadata": {},
   "outputs": [
    {
     "data": {
      "text/html": [
       "<div>\n",
       "<style scoped>\n",
       "    .dataframe tbody tr th:only-of-type {\n",
       "        vertical-align: middle;\n",
       "    }\n",
       "\n",
       "    .dataframe tbody tr th {\n",
       "        vertical-align: top;\n",
       "    }\n",
       "\n",
       "    .dataframe thead th {\n",
       "        text-align: right;\n",
       "    }\n",
       "</style>\n",
       "<table border=\"1\" class=\"dataframe\">\n",
       "  <thead>\n",
       "    <tr style=\"text-align: right;\">\n",
       "      <th></th>\n",
       "      <th>review_scores_location</th>\n",
       "      <th>review_scores_value</th>\n",
       "      <th>review_scores_checkin</th>\n",
       "      <th>review_scores_accuracy</th>\n",
       "      <th>review_scores_communication</th>\n",
       "      <th>review_scores_cleanliness</th>\n",
       "      <th>review_scores_rating</th>\n",
       "      <th>reviews_per_month</th>\n",
       "      <th>last_review</th>\n",
       "      <th>first_review</th>\n",
       "    </tr>\n",
       "  </thead>\n",
       "  <tbody>\n",
       "    <tr>\n",
       "      <th>total</th>\n",
       "      <td>10952</td>\n",
       "      <td>10950</td>\n",
       "      <td>10948</td>\n",
       "      <td>10930</td>\n",
       "      <td>10925</td>\n",
       "      <td>10913</td>\n",
       "      <td>10892</td>\n",
       "      <td>9931</td>\n",
       "      <td>9931</td>\n",
       "      <td>9931</td>\n",
       "    </tr>\n",
       "    <tr>\n",
       "      <th>percentage</th>\n",
       "      <td>22.641</td>\n",
       "      <td>22.637</td>\n",
       "      <td>22.632</td>\n",
       "      <td>22.595</td>\n",
       "      <td>22.585</td>\n",
       "      <td>22.56</td>\n",
       "      <td>22.517</td>\n",
       "      <td>20.53</td>\n",
       "      <td>20.53</td>\n",
       "      <td>20.53</td>\n",
       "    </tr>\n",
       "    <tr>\n",
       "      <th>idx_list</th>\n",
       "      <td>[3647, 7750, 870...</td>\n",
       "      <td>[3647, 7750, 870...</td>\n",
       "      <td>[3647, 7750, 870...</td>\n",
       "      <td>[3647, 7750, 870...</td>\n",
       "      <td>[3647, 7750, 870...</td>\n",
       "      <td>[3647, 7750, 870...</td>\n",
       "      <td>[3647, 7750, 870...</td>\n",
       "      <td>[3647, 7750, 870...</td>\n",
       "      <td>[3647, 7750, 870...</td>\n",
       "      <td>[3647, 7750, 870...</td>\n",
       "    </tr>\n",
       "  </tbody>\n",
       "</table>\n",
       "</div>"
      ],
      "text/plain": [
       "           review_scores_location  \\\n",
       "total                     10952     \n",
       "percentage               22.641     \n",
       "idx_list    [3647, 7750, 870...     \n",
       "\n",
       "            review_scores_value  \\\n",
       "total                     10950   \n",
       "percentage               22.637   \n",
       "idx_list    [3647, 7750, 870...   \n",
       "\n",
       "           review_scores_checkin  \\\n",
       "total                     10948    \n",
       "percentage               22.632    \n",
       "idx_list    [3647, 7750, 870...    \n",
       "\n",
       "           review_scores_accuracy  \\\n",
       "total                     10930     \n",
       "percentage               22.595     \n",
       "idx_list    [3647, 7750, 870...     \n",
       "\n",
       "           review_scores_communication  \\\n",
       "total                     10925          \n",
       "percentage               22.585          \n",
       "idx_list    [3647, 7750, 870...          \n",
       "\n",
       "           review_scores_cleanliness  \\\n",
       "total                     10913        \n",
       "percentage                22.56        \n",
       "idx_list    [3647, 7750, 870...        \n",
       "\n",
       "           review_scores_rating  \\\n",
       "total                     10892   \n",
       "percentage               22.517   \n",
       "idx_list    [3647, 7750, 870...   \n",
       "\n",
       "              reviews_per_month  \\\n",
       "total                      9931   \n",
       "percentage                20.53   \n",
       "idx_list    [3647, 7750, 870...   \n",
       "\n",
       "                    last_review  \\\n",
       "total                      9931   \n",
       "percentage                20.53   \n",
       "idx_list    [3647, 7750, 870...   \n",
       "\n",
       "                   first_review  \n",
       "total                      9931  \n",
       "percentage                20.53  \n",
       "idx_list    [3647, 7750, 870...  "
      ]
     },
     "execution_count": 38,
     "metadata": {},
     "output_type": "execute_result"
    }
   ],
   "source": [
    "all_review_cols = [c for c in cols_20_40 if \"review\" in c]\n",
    "analyse_nans(listings[all_review_cols])"
   ]
  },
  {
   "cell_type": "code",
   "execution_count": 39,
   "metadata": {},
   "outputs": [],
   "source": [
    "review_scores_cols = [c for c in all_review_cols if \"review_\" in c]"
   ]
  },
  {
   "cell_type": "code",
   "execution_count": 40,
   "metadata": {},
   "outputs": [
    {
     "data": {
      "image/png": "[encoded data removed]",
      "text/plain": [
       "<Figure size 1440x1152 with 9 Axes>"
      ]
     },
     "metadata": {},
     "output_type": "display_data"
    }
   ],
   "source": [
    "f, ax = plt.subplots(3,3, figsize=(20,16))\n",
    "col_counter = 0\n",
    "g = sns.distplot(a=listings[~listings[review_scores_cols[col_counter]].isna()][review_scores_cols[col_counter]], ax=ax[0][0], kde=False)\n",
    "col_counter+=1\n",
    "g = sns.distplot(a=listings[~listings[review_scores_cols[col_counter]].isna()][review_scores_cols[col_counter]], ax=ax[0][1], kde=False)\n",
    "col_counter+=1\n",
    "g = sns.distplot(a=listings[~listings[review_scores_cols[col_counter]].isna()][review_scores_cols[col_counter]], ax=ax[0][2], kde=False)\n",
    "col_counter+=1\n",
    "g = sns.distplot(a=listings[~listings[review_scores_cols[col_counter]].isna()][review_scores_cols[col_counter]], ax=ax[1][0], kde=False)\n",
    "col_counter+=1\n",
    "g = sns.distplot(a=listings[~listings[review_scores_cols[col_counter]].isna()][review_scores_cols[col_counter]], ax=ax[1][1], kde=False)\n",
    "col_counter+=1\n",
    "g = sns.distplot(a=listings[~listings[review_scores_cols[col_counter]].isna()][review_scores_cols[col_counter]], ax=ax[1][2], kde=False)\n",
    "col_counter+=1\n",
    "g = sns.distplot(a=listings[~listings[review_scores_cols[col_counter]].isna()][review_scores_cols[col_counter]], ax=ax[2][0], kde=False)\n",
    "col_counter+=1\n",
    "ax[2][1].set_visible(not ax[2][1].get_visible())\n",
    "ax[2][2].set_visible(not ax[2][2].get_visible())"
   ]
  },
  {
   "cell_type": "code",
   "execution_count": 41,
   "metadata": {},
   "outputs": [
    {
     "name": "stdout",
     "output_type": "stream",
     "text": [
      "review_scores_location median : 10.0\n",
      "review_scores_value median : 10.0\n",
      "review_scores_checkin median : 10.0\n",
      "review_scores_accuracy median : 10.0\n",
      "review_scores_communication median : 10.0\n",
      "review_scores_cleanliness median : 10.0\n",
      "review_scores_rating median : 96.0\n"
     ]
    }
   ],
   "source": [
    "for c in review_scores_cols:\n",
    "    print(c, \"median :\", listings[c].median())"
   ]
  },
  {
   "cell_type": "markdown",
   "metadata": {},
   "source": [
    "We can just fill the missing values with the median"
   ]
  },
  {
   "cell_type": "code",
   "execution_count": 42,
   "metadata": {},
   "outputs": [],
   "source": [
    "for c in review_scores_cols:\n",
    "    listings[c].fillna(listings[c].median(), inplace=True)"
   ]
  },
  {
   "cell_type": "markdown",
   "metadata": {},
   "source": [
    "### Reviews per month"
   ]
  },
  {
   "cell_type": "code",
   "execution_count": 43,
   "metadata": {},
   "outputs": [
    {
     "name": "stdout",
     "output_type": "stream",
     "text": [
      "Median reviews per month : 0.72\n"
     ]
    },
    {
     "data": {
      "image/png": "[encoded data removed]",
      "text/plain": [
       "<Figure size 504x360 with 1 Axes>"
      ]
     },
     "metadata": {},
     "output_type": "display_data"
    }
   ],
   "source": [
    "f, ax = plt.subplots(1,1,figsize=(7,5))\n",
    "g = sns.distplot(listings[\"reviews_per_month\"].dropna(), ax=ax, kde=False)\n",
    "print(\"Median reviews per month :\", listings[\"reviews_per_month\"].median())"
   ]
  },
  {
   "cell_type": "markdown",
   "metadata": {},
   "source": [
    "We can fill the number of reviews per month with the median value"
   ]
  },
  {
   "cell_type": "code",
   "execution_count": 44,
   "metadata": {},
   "outputs": [],
   "source": [
    "listings[\"reviews_per_month\"].fillna(listings[\"reviews_per_month\"].median(), inplace=True)"
   ]
  },
  {
   "cell_type": "markdown",
   "metadata": {},
   "source": [
    "### first_review and last_review"
   ]
  },
  {
   "cell_type": "markdown",
   "metadata": {},
   "source": [
    "Let's first check the hypothesis that if the first review date is missing, would the corresponding last_review date be also missing (and vice versa)?"
   ]
  },
  {
   "cell_type": "code",
   "execution_count": 45,
   "metadata": {},
   "outputs": [
    {
     "name": "stdout",
     "output_type": "stream",
     "text": [
      "Number of rows between pairs of columns that have NaNs only in one of them - \n",
      "last_review \t first_review -->\t 0 rows, \ti.e. 0.0 % of total listings rows\n"
     ]
    }
   ],
   "source": [
    "review_date_cols = [\"first_review\", \"last_review\"]\n",
    "\n",
    "# Verify that these columns have missing values in the exact same rows.\n",
    "print(\"Number of rows between pairs of columns that have NaNs only in one of them - \")\n",
    "for i in range(1, len(review_date_cols)):\n",
    "    print(review_date_cols[i], \"\\t\", review_date_cols[i-1], end=\" -->\\t \")\n",
    "    idx1 = nan_df[review_date_cols[i-1]].iloc[2]\n",
    "    idx2 = nan_df[review_date_cols[i]].iloc[2]\n",
    "    l = find_unique_elems([idx1, idx2])\n",
    "    print(len(l), \"rows, \\ti.e.\", round(100*len(l)/listings.shape[0], 2), \"% of total listings rows\")"
   ]
  },
  {
   "cell_type": "code",
   "execution_count": 46,
   "metadata": {},
   "outputs": [],
   "source": [
    "# Let's make some additional helper columns\n",
    "listings['last_review'] = pd.to_datetime(listings['last_review'])\n",
    "listings['lreview_year'] = listings['last_review'].dt.year\n",
    "listings['lreview_month'] = listings['last_review'].dt.month\n",
    "listings['lreview_day'] = listings['last_review'].dt.day\n",
    "\n",
    "listings['first_review'] = pd.to_datetime(listings['first_review'])\n",
    "listings['freview_year'] = listings['first_review'].dt.year\n",
    "listings['freview_month'] = listings['first_review'].dt.month\n",
    "listings['freview_day'] = listings['first_review'].dt.day"
   ]
  },
  {
   "cell_type": "markdown",
   "metadata": {},
   "source": [
    "When were the reviews posted? "
   ]
  },
  {
   "cell_type": "code",
   "execution_count": 47,
   "metadata": {},
   "outputs": [
    {
     "data": {
      "image/png": "[encoded data removed]",
      "text/plain": [
       "<Figure size 1440x360 with 3 Axes>"
      ]
     },
     "metadata": {},
     "output_type": "display_data"
    }
   ],
   "source": [
    "f, ax = plt.subplots(1, 3, figsize=(20, 5))\n",
    "g = sns.distplot(a=listings[~listings[\"freview_year\"].isna()][\"freview_year\"], ax=ax[0], kde=False)\n",
    "g = g.set(title=\"Reviews over Years\", xlabel=\"Year\", ylabel=\"count\")\n",
    "g = sns.distplot(a=listings[~listings[\"freview_month\"].isna()][\"freview_month\"], ax=ax[1], kde=False)\n",
    "g = g.set(title=\"Reviews over months\", xlabel=\"Month of year\", ylabel=\"count\")\n",
    "g = sns.distplot(a=listings[~listings[\"freview_day\"].isna()][\"freview_day\"], ax=ax[2], kde=False)\n",
    "g = g.set(title=\"Reviews over days\", xlabel=\"Day of month\", ylabel=\"count\")"
   ]
  },
  {
   "cell_type": "code",
   "execution_count": 48,
   "metadata": {},
   "outputs": [
    {
     "data": {
      "image/png": "[encoded data removed]",
      "text/plain": [
       "<Figure size 1440x360 with 3 Axes>"
      ]
     },
     "metadata": {},
     "output_type": "display_data"
    }
   ],
   "source": [
    "f, ax = plt.subplots(1, 3, figsize=(20, 5))\n",
    "g = sns.distplot(a=listings[~listings[\"lreview_year\"].isna()][\"lreview_year\"], ax=ax[0], kde=False)\n",
    "g = g.set(title=\"Reviews over Years\", xlabel=\"Year\", ylabel=\"count\")\n",
    "g = sns.distplot(a=listings[~listings[\"lreview_month\"].isna()][\"lreview_month\"], ax=ax[1], kde=False)\n",
    "g = g.set(title=\"Reviews over months\", xlabel=\"Month of year\", ylabel=\"count\")\n",
    "g = sns.distplot(a=listings[~listings[\"lreview_day\"].isna()][\"lreview_day\"], ax=ax[2], kde=False)\n",
    "g = g.set(title=\"Reviews over days\", xlabel=\"Day of month\", ylabel=\"count\")"
   ]
  },
  {
   "cell_type": "markdown",
   "metadata": {},
   "source": [
    "If we use median, we can estimate that the missing year values is (most probably) 2018, the missing month values is (most probably) 10/11 and for date would be around 16.\n",
    "\n",
    "Or we can create a separate category called X for each column, to estimate that there has been no review written for those dates yet.Upon checking online using the URLs provided, we can verify that no reviews are provided for those listings yet. \n",
    "\n",
    "The latter method is used for imputation here."
   ]
  },
  {
   "cell_type": "code",
   "execution_count": 49,
   "metadata": {},
   "outputs": [],
   "source": [
    "listings[\"first_review\"].fillna(\"XX\", inplace=True)\n",
    "listings[\"last_review\"].fillna(\"XX\", inplace=True)\n",
    "listings['lreview_year'].fillna(0, inplace=True)\n",
    "listings['lreview_month'].fillna(0, inplace=True)\n",
    "listings['lreview_day'].fillna(0, inplace=True)\n",
    "listings['freview_year'].fillna(0, inplace=True)\n",
    "listings['freview_month'].fillna(0, inplace=True)\n",
    "listings['freview_day'].fillna(0, inplace=True)"
   ]
  },
  {
   "cell_type": "markdown",
   "metadata": {},
   "source": [
    "### host_total_listings_count, host_listings_count"
   ]
  },
  {
   "cell_type": "markdown",
   "metadata": {},
   "source": [
    "Both the listings count and total listings count are missing values at the same row locations."
   ]
  },
  {
   "cell_type": "code",
   "execution_count": 50,
   "metadata": {},
   "outputs": [
    {
     "data": {
      "text/plain": [
       "[]"
      ]
     },
     "execution_count": 50,
     "metadata": {},
     "output_type": "execute_result"
    }
   ],
   "source": [
    "id_list = [nan_df[\"host_listings_count\"].loc[\"idx_list\"], nan_df[\"host_total_listings_count\"].loc[\"idx_list\"]]\n",
    "find_unique_elems(id_list)"
   ]
  },
  {
   "cell_type": "markdown",
   "metadata": {},
   "source": [
    "They can be filled with the number of occurences of their respective hosts"
   ]
  },
  {
   "cell_type": "code",
   "execution_count": 51,
   "metadata": {
    "scrolled": true
   },
   "outputs": [
    {
     "data": {
      "text/plain": [
       "219517861    327\n",
       "107434423    232\n",
       "30283594     121\n",
       "137358866    103\n",
       "12243051      96\n",
       "Name: host_id, dtype: int64"
      ]
     },
     "execution_count": 51,
     "metadata": {},
     "output_type": "execute_result"
    }
   ],
   "source": [
    "id_vcs = listings[\"host_id\"].value_counts()\n",
    "id_vcs.head()"
   ]
  },
  {
   "cell_type": "code",
   "execution_count": 52,
   "metadata": {},
   "outputs": [],
   "source": [
    "q = \"host_listings_count!=host_listings_count\"\n",
    "def fill_listings_count(row):\n",
    "    if row[\"host_listings_count\"] == row[\"host_listings_count\"]:\n",
    "        return row\n",
    "    if row[\"host_id\"] in id_vcs.index:\n",
    "        val = id_vcs[row[\"host_id\"]]\n",
    "        row[\"host_listings_count\"] = val\n",
    "        row[\"host_total_listings_count\"] = val\n",
    "    else:\n",
    "        row[\"host_listings_count\"] = 1\n",
    "        row[\"host_total_listings_count\"] = 1\n",
    "    return row\n",
    "listings = listings.apply(fill_listings_count, axis=1)"
   ]
  },
  {
   "cell_type": "markdown",
   "metadata": {},
   "source": [
    "### host_has_profile_pic"
   ]
  },
  {
   "cell_type": "code",
   "execution_count": 53,
   "metadata": {},
   "outputs": [],
   "source": [
    "# The presence of a profile pic can have influence on whether a listing gets booked.\n",
    "# We can fill the missing value with False\n",
    "listings[\"host_has_profile_pic\"] = listings[\"host_has_profile_pic\"].fillna(\"f\")"
   ]
  },
  {
   "cell_type": "markdown",
   "metadata": {},
   "source": [
    "### host_identity_verified"
   ]
  },
  {
   "cell_type": "code",
   "execution_count": 54,
   "metadata": {},
   "outputs": [],
   "source": [
    "# The presence of a verification can have influence on whether a listing gets booked.\n",
    "# We can fill the missing value with False\n",
    "listings[\"host_has_profile_pic\"] = listings[\"host_has_profile_pic\"].fillna(\"f\")"
   ]
  },
  {
   "cell_type": "markdown",
   "metadata": {},
   "source": [
    "### host_is_superhost"
   ]
  },
  {
   "cell_type": "code",
   "execution_count": 55,
   "metadata": {},
   "outputs": [],
   "source": [
    "listings[\"host_is_superhost\"] = listings[\"host_is_superhost\"].fillna(\"f\")"
   ]
  },
  {
   "cell_type": "markdown",
   "metadata": {},
   "source": [
    "### host_since"
   ]
  },
  {
   "cell_type": "markdown",
   "metadata": {},
   "source": [
    "We can fill the host since date with calendar last scraped."
   ]
  },
  {
   "cell_type": "code",
   "execution_count": 56,
   "metadata": {},
   "outputs": [],
   "source": [
    "listings[\"host_since\"] = listings[\"host_since\"].fillna(listings[\"calendar_last_scraped\"])"
   ]
  },
  {
   "cell_type": "markdown",
   "metadata": {},
   "source": [
    "### host_location"
   ]
  },
  {
   "cell_type": "markdown",
   "metadata": {},
   "source": [
    "We can fill the host location with the most occuring host location"
   ]
  },
  {
   "cell_type": "code",
   "execution_count": 57,
   "metadata": {},
   "outputs": [],
   "source": [
    "hl_vcs = listings[\"host_location\"].value_counts()\n",
    "listings[\"host_location\"] = listings[\"host_location\"].fillna(hl_vcs.index[0])"
   ]
  },
  {
   "cell_type": "markdown",
   "metadata": {},
   "source": [
    "### host_neighbourhood"
   ]
  },
  {
   "cell_type": "code",
   "execution_count": 58,
   "metadata": {
    "scrolled": false
   },
   "outputs": [
    {
     "data": {
      "text/html": [
       "<div>\n",
       "<style scoped>\n",
       "    .dataframe tbody tr th:only-of-type {\n",
       "        vertical-align: middle;\n",
       "    }\n",
       "\n",
       "    .dataframe tbody tr th {\n",
       "        vertical-align: top;\n",
       "    }\n",
       "\n",
       "    .dataframe thead th {\n",
       "        text-align: right;\n",
       "    }\n",
       "</style>\n",
       "<table border=\"1\" class=\"dataframe\">\n",
       "  <thead>\n",
       "    <tr style=\"text-align: right;\">\n",
       "      <th></th>\n",
       "      <th>host_neighbourhood</th>\n",
       "      <th>neighbourhood_cleansed</th>\n",
       "    </tr>\n",
       "    <tr>\n",
       "      <th>id</th>\n",
       "      <th></th>\n",
       "      <th></th>\n",
       "    </tr>\n",
       "  </thead>\n",
       "  <tbody>\n",
       "    <tr>\n",
       "      <th>2539</th>\n",
       "      <td>Gravesend</td>\n",
       "      <td>Kensington</td>\n",
       "    </tr>\n",
       "    <tr>\n",
       "      <th>2595</th>\n",
       "      <td>Midtown</td>\n",
       "      <td>Midtown</td>\n",
       "    </tr>\n",
       "    <tr>\n",
       "      <th>3647</th>\n",
       "      <td>Harlem</td>\n",
       "      <td>Harlem</td>\n",
       "    </tr>\n",
       "    <tr>\n",
       "      <th>3831</th>\n",
       "      <td>Clinton Hill</td>\n",
       "      <td>Clinton Hill</td>\n",
       "    </tr>\n",
       "    <tr>\n",
       "      <th>5022</th>\n",
       "      <td>East Harlem</td>\n",
       "      <td>East Harlem</td>\n",
       "    </tr>\n",
       "  </tbody>\n",
       "</table>\n",
       "</div>"
      ],
      "text/plain": [
       "     host_neighbourhood  \\\n",
       "id                        \n",
       "2539          Gravesend   \n",
       "2595            Midtown   \n",
       "3647             Harlem   \n",
       "3831       Clinton Hill   \n",
       "5022        East Harlem   \n",
       "\n",
       "     neighbourhood_cleansed  \n",
       "id                           \n",
       "2539           Kensington    \n",
       "2595              Midtown    \n",
       "3647               Harlem    \n",
       "3831         Clinton Hill    \n",
       "5022          East Harlem    "
      ]
     },
     "metadata": {},
     "output_type": "display_data"
    }
   ],
   "source": [
    "display(listings[[\"host_neighbourhood\", \"neighbourhood_cleansed\"]].head())\n",
    "# We can fill the host neighborhood with the neighborhood cleansed column"
   ]
  },
  {
   "cell_type": "code",
   "execution_count": 59,
   "metadata": {},
   "outputs": [],
   "source": [
    "listings[\"host_neighbourhood\"] = listings[\"host_neighbourhood\"].fillna(listings[\"neighbourhood_cleansed\"])"
   ]
  },
  {
   "cell_type": "markdown",
   "metadata": {},
   "source": [
    "### market"
   ]
  },
  {
   "cell_type": "markdown",
   "metadata": {},
   "source": [
    "We can fill the market with the most occuring market"
   ]
  },
  {
   "cell_type": "code",
   "execution_count": 61,
   "metadata": {},
   "outputs": [],
   "source": [
    "market_vcs = listings[\"market\"].value_counts()\n",
    "listings[\"market\"] = listings[\"market\"].fillna(market_vcs.index[0])"
   ]
  },
  {
   "cell_type": "markdown",
   "metadata": {},
   "source": [
    "-------------"
   ]
  },
  {
   "cell_type": "markdown",
   "metadata": {},
   "source": [
    "# Selecting a subset of the dataframe"
   ]
  },
  {
   "cell_type": "markdown",
   "metadata": {},
   "source": [
    "Finally,drop all the unnecessary columns "
   ]
  },
  {
   "cell_type": "code",
   "execution_count": 62,
   "metadata": {},
   "outputs": [],
   "source": [
    "listings = listings[cols_to_keep]\n",
    "# Drop all the columns that have had 80% and above missing values.\n",
    "# And also drop the \"state\" column\n",
    "drop_c = list(nan_df_t[nan_df_t[\"percentage\"]>=80].index) + [\"state\"]\n",
    "listings = drop_collist(listings, drop_c)"
   ]
  },
  {
   "cell_type": "markdown",
   "metadata": {},
   "source": [
    "Quick verification to see that there are no more missing values"
   ]
  },
  {
   "cell_type": "code",
   "execution_count": 63,
   "metadata": {},
   "outputs": [
    {
     "name": "stdout",
     "output_type": "stream",
     "text": [
      "Maximum number of missing values : 0.0\n"
     ]
    }
   ],
   "source": [
    "print(\"Maximum number of missing values :\", analyse_nans(listings).iloc[1].max())"
   ]
  },
  {
   "cell_type": "code",
   "execution_count": 64,
   "metadata": {},
   "outputs": [],
   "source": [
    "# Save the file to disk\n",
    "listings.to_csv(\"./listings_cleaned.csv\")"
   ]
  }
 ],
 "metadata": {
  "kernelspec": {
   "display_name": "Python 3",
   "language": "python",
   "name": "python3"
  },
  "language_info": {
   "codemirror_mode": {
    "name": "ipython",
    "version": 3
   },
   "file_extension": ".py",
   "mimetype": "text/x-python",
   "name": "python",
   "nbconvert_exporter": "python",
   "pygments_lexer": "ipython3",
   "version": "3.6.7"
  }
 },
 "nbformat": 4,
 "nbformat_minor": 2
}
